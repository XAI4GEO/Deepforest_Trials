{
 "cells": [
  {
   "cell_type": "markdown",
   "metadata": {},
   "source": [
    "# Siamese Network for Tree Crown Species Classifcation\n",
    "\n",
    "This notebook trains a siamese network with ideas derived from [face recognition](https://medium.com/wicds/face-recognition-using-siamese-networks-84d6f2e54ea4) in order to classify tree crowns to different species of interest. This work is motivated by the need for a few shot learning model to detect tree species due to limited availability of data-sets."
   ]
  },
  {
   "cell_type": "code",
   "execution_count": 1,
   "metadata": {},
   "outputs": [
    {
     "name": "stderr",
     "output_type": "stream",
     "text": [
      "2023-09-11 10:40:11.053060: I tensorflow/core/util/port.cc:110] oneDNN custom operations are on. You may see slightly different numerical results due to floating-point round-off errors from different computation orders. To turn them off, set the environment variable `TF_ENABLE_ONEDNN_OPTS=0`.\n",
      "2023-09-11 10:40:11.123460: I tensorflow/core/platform/cpu_feature_guard.cc:182] This TensorFlow binary is optimized to use available CPU instructions in performance-critical operations.\n",
      "To enable the following instructions: SSE4.1 SSE4.2 AVX AVX2 AVX512F AVX512_VNNI FMA, in other operations, rebuild TensorFlow with the appropriate compiler flags.\n"
     ]
    }
   ],
   "source": [
    "# Import libraries\n",
    "import keras\n",
    "import tensorflow as tf\n",
    "from keras import backend as k\n",
    "import numpy as np\n",
    "import matplotlib.pyplot as plt\n",
    "from classification_models.keras import Classifiers"
   ]
  },
  {
   "cell_type": "markdown",
   "metadata": {},
   "source": [
    "## Model Implementation"
   ]
  },
  {
   "cell_type": "code",
   "execution_count": 2,
   "metadata": {},
   "outputs": [],
   "source": [
    "# Set Keras backend for image data format\n",
    "\n",
    "keras.backend.set_image_data_format('channels_first')"
   ]
  },
  {
   "cell_type": "markdown",
   "metadata": {},
   "source": [
    "### Create the base model that extracts features from the input images\n",
    "Both input images that are to be compared are run through the same network to provide embeddings whose similarity will be compared"
   ]
  },
  {
   "cell_type": "code",
   "execution_count": 3,
   "metadata": {},
   "outputs": [],
   "source": [
    "def create_model():\n",
    "    inputs = keras.Input((3, 100, 100))\n",
    "    x = keras.layers.Conv2D(32, (5, 5), padding=\"same\", activation=\"relu\")(inputs)\n",
    "    x = keras.layers.MaxPooling2D(pool_size=(2, 2))(x)\n",
    "    x = keras.layers.Dropout(0.3)(x)\n",
    "\n",
    "    x = keras.layers.Conv2D(64, (5, 5), padding=\"same\", activation=\"relu\")(x)\n",
    "    x = keras.layers.MaxPooling2D(pool_size=(2, 2))(x)\n",
    "    x = keras.layers.Dropout(0.3)(x)\n",
    "\n",
    "    x = keras.layers.Conv2D(96, (3, 3), padding=\"same\", activation=\"relu\")(x)\n",
    "    x = keras.layers.MaxPooling2D(pool_size=(2, 2))(x)\n",
    "    x = keras.layers.Dropout(0.3)(x)\n",
    "\n",
    "    pooledOutput = keras.layers.GlobalAveragePooling2D()(x)\n",
    "    pooledOutput = keras.layers.Dense(128)(pooledOutput)\n",
    "    outputs = keras.layers.Dense(32)(pooledOutput)\n",
    "\n",
    "    model = keras.Model(inputs, outputs)\n",
    "    return model"
   ]
  },
  {
   "cell_type": "markdown",
   "metadata": {},
   "source": [
    "### Extract features from the base network"
   ]
  },
  {
   "cell_type": "code",
   "execution_count": 4,
   "metadata": {},
   "outputs": [],
   "source": [
    "def euclidean_distance(vectors):\n",
    "    (featA, featB) = vectors\n",
    "    sum_squared = k.sum(k.square(featA - featB), axis=1, keepdims=True)\n",
    "    return k.sqrt(k.maximum(sum_squared, k.epsilon()))"
   ]
  },
  {
   "cell_type": "code",
   "execution_count": 5,
   "metadata": {},
   "outputs": [],
   "source": [
    "def siamese_model():\n",
    "    feature_extractor_model = create_model()\n",
    "    imgA = keras.Input(shape=(3, 100, 100))\n",
    "    imgB = keras.Input(shape=(3, 100, 100))\n",
    "    featA = feature_extractor_model(imgA)\n",
    "    featB = feature_extractor_model(imgB)\n",
    "    distance = keras.layers.Lambda(euclidean_distance)([featA, featB])\n",
    "    #  outputs = keras.layers.Dense(1)(distance)\n",
    "    outputs = keras.layers.Dense(1, activation=\"sigmoid\")(distance)\n",
    "    model = keras.Model(inputs=[imgA, imgB], outputs=outputs)\n",
    "    return model"
   ]
  },
  {
   "cell_type": "code",
   "execution_count": 6,
   "metadata": {},
   "outputs": [],
   "source": [
    "# model = siamese_model()\n",
    "# model.summary()"
   ]
  },
  {
   "cell_type": "code",
   "execution_count": 7,
   "metadata": {},
   "outputs": [],
   "source": [
    "def compile_model(model, lr):\n",
    "    opt = keras.optimizers.Adam(learning_rate=lr)\n",
    "    loss = keras.losses.BinaryCrossentropy(from_logits=False)\n",
    "    metrics = [keras.metrics.BinaryAccuracy(threshold=0.5)]\n",
    "    model.compile(loss=loss, optimizer=opt, metrics=metrics)"
   ]
  },
  {
   "cell_type": "markdown",
   "metadata": {},
   "source": [
    "# Data Preparation"
   ]
  },
  {
   "cell_type": "markdown",
   "metadata": {},
   "source": [
    "Read the IDTreeS Dataset and cut-out individual tree crowns"
   ]
  },
  {
   "cell_type": "code",
   "execution_count": 8,
   "metadata": {},
   "outputs": [],
   "source": [
    "# import glob\n",
    "\n",
    "# from rioxarray.exceptions import NoDataInBounds\n",
    "# from sklearn.preprocessing import LabelEncoder \n",
    "# import IDTreeS_dataset\n",
    "\n",
    "# # Data Loader from IDTreeS Dataset\n",
    "# rgb_paths = glob.glob('../train/RemoteSensing/RGB/*.tif')\n",
    "# bboxes_paths = glob.glob('../train/ITC/train_*.shp')\n",
    "# classes_path = '../train/Field/train_data.csv'"
   ]
  },
  {
   "cell_type": "code",
   "execution_count": 9,
   "metadata": {},
   "outputs": [],
   "source": [
    "# # Convert generator dataset in to suitable input for keras\n",
    "# ds = IDTreeS_dataset.IDTreeSDataset(rgb_paths, bboxes_paths, classes_path, augment_data=False)\n",
    "\n",
    "# ids, Y, X = ds.get_cutouts()\n",
    "\n",
    "# nclasses = len(np.unique(Y)) #Number of classes in training data"
   ]
  },
  {
   "cell_type": "markdown",
   "metadata": {},
   "source": [
    "Preprocess data to suit ResNET"
   ]
  },
  {
   "cell_type": "code",
   "execution_count": 10,
   "metadata": {},
   "outputs": [],
   "source": [
    "# def preprocess_data(X, Y):\n",
    "#     classes = [0, 4, 8]\n",
    "#     mask = np.isin(Y, classes)\n",
    "#     X_red = X[mask]\n",
    "#     Y_red = Y[mask]\n",
    "#     for i in range(len(classes)):\n",
    "#         mask = np.isin(Y_red, classes[i])\n",
    "#         Y_red[mask] = i\n",
    "    \n",
    "#     # X_red = preprocess_input(X_red)\n",
    "#     # Y_p = keras.utils.to_categorical(Y, nclasses)\n",
    "#     return X_red, Y_red\n",
    "\n",
    "# X, Y = preprocess_data(X, Y)"
   ]
  },
  {
   "cell_type": "markdown",
   "metadata": {},
   "source": [
    "Create positive and negative image pairs from the dataset:\n",
    "\n",
    "- Images for each label are limited to 10 samples.\n",
    "- Labels 0-5 (6 classes) are used to train the siamese network\n",
    "- Labels 6-8 (3 classes) will be used to test the trained network\n"
   ]
  },
  {
   "cell_type": "code",
   "execution_count": 11,
   "metadata": {},
   "outputs": [],
   "source": [
    "# def generate_train_image_pairs(images_dataset, labels_dataset):\n",
    "#     unique_labels = np.unique(labels_dataset)\n",
    "#     label_wise_indices = dict()\n",
    "#     label_wise_samples = dict()\n",
    "#     for label in unique_labels:\n",
    "#         label_wise_indices.setdefault(label,\n",
    "#                                       [index for index, curr_label in enumerate(labels_dataset) if\n",
    "#                                        label == curr_label])\n",
    "#     samples = {key: len(value) for key, value in label_wise_indices.items()}\n",
    "#     for i in range(len(label_wise_indices)):\n",
    "#         label_wise_samples[i] = label_wise_indices[i][0:min(samples.values())] \n",
    "\n",
    "#     pair_images = []\n",
    "#     pair_labels = []\n",
    "#     pair_index = []\n",
    "#     for index, image in enumerate(images_dataset):\n",
    "#         if index in np.ndarray.flatten(np.array(([*label_wise_samples.values()]))):\n",
    "#             pos_indices = label_wise_samples.get(labels_dataset[index])\n",
    "#             pos_index = np.random.choice(pos_indices)\n",
    "#             pos_image = images_dataset[pos_index]\n",
    "#             pair_images.append((image, pos_image))\n",
    "#             pair_labels.append(1)\n",
    "#             pair_index.append((index,pos_index))\n",
    "\n",
    "#             neg_indices = np.setdiff1d(np.ndarray.flatten(np.array(([*label_wise_samples.values()]))), pos_indices)\n",
    "#             neg_index = np.random.choice(neg_indices)\n",
    "#             neg_image = images_dataset[neg_index]\n",
    "#             pair_images.append((image, neg_image))\n",
    "#             pair_index.append((index,neg_index))\n",
    "#             pair_labels.append(0)\n",
    "#         else:\n",
    "#             continue\n",
    "#     return np.array(pair_images), np.array(pair_labels), np.array(pair_index)"
   ]
  },
  {
   "cell_type": "code",
   "execution_count": 12,
   "metadata": {},
   "outputs": [],
   "source": [
    "# images_pair, labels_pair, index_pair = generate_train_image_pairs(X, Y)\n",
    "# index_pair.shape"
   ]
  },
  {
   "cell_type": "markdown",
   "metadata": {},
   "source": [
    "### Save the data to fix input to model"
   ]
  },
  {
   "cell_type": "code",
   "execution_count": 13,
   "metadata": {},
   "outputs": [],
   "source": [
    "# # Split train and validation data\n",
    "# from sklearn.model_selection import train_test_split\n",
    "\n",
    "# X_train, X_val, y_train, y_val = train_test_split(images_pair, labels_pair, test_size=0.2, random_state=0, shuffle=True)"
   ]
  },
  {
   "cell_type": "code",
   "execution_count": 14,
   "metadata": {},
   "outputs": [],
   "source": [
    "# np.savez('train_data.npz', X_train=X_train, y_train=y_train, X_val=X_val, y_val=y_val)"
   ]
  },
  {
   "cell_type": "code",
   "execution_count": 15,
   "metadata": {},
   "outputs": [],
   "source": [
    "data = np.load('train_data.npz')\n",
    "X_train = data['X_train']\n",
    "y_train = data['y_train']\n",
    "X_val = data['X_val']\n",
    "y_val = data['y_val']"
   ]
  },
  {
   "cell_type": "markdown",
   "metadata": {},
   "source": [
    "# Explore each class and identify different classes (Classes 0, 4 and 7 appear visually different)"
   ]
  },
  {
   "cell_type": "code",
   "execution_count": 16,
   "metadata": {},
   "outputs": [],
   "source": [
    "# unique_labels = np.unique(Y)\n",
    "# label_wise_indices = dict()\n",
    "# label_wise_samples = dict()\n",
    "# for label in unique_labels:\n",
    "#     label_wise_indices.setdefault(label,\n",
    "#                                     [index for index, curr_label in enumerate(Y) if\n",
    "#                                     label == curr_label])"
   ]
  },
  {
   "cell_type": "code",
   "execution_count": 17,
   "metadata": {},
   "outputs": [],
   "source": [
    "# fig = plt.figure(figsize=(14, 14))\n",
    "\n",
    "# for i in range(len(unique_labels)):\n",
    "#     sub = fig.add_subplot(3, 3, i+1)\n",
    "#     idx_idx = np.random.randint(len(label_wise_indices[i][:]))\n",
    "#     idx = label_wise_indices[i][idx_idx]\n",
    "#     sub.imshow(X[idx,:,:,:].transpose(1,2,0).astype('int'))\n",
    "#     sub.set_ylabel(Y[idx], fontsize=16)\n",
    "#     sub.set_xlabel(idx, fontsize=16)"
   ]
  },
  {
   "cell_type": "code",
   "execution_count": 18,
   "metadata": {},
   "outputs": [],
   "source": [
    "# for i in range(len(label_wise_indices)):\n",
    "#     print (len(label_wise_indices[i]))"
   ]
  },
  {
   "cell_type": "code",
   "execution_count": 19,
   "metadata": {},
   "outputs": [],
   "source": [
    "# fig = plt.figure(figsize=(15, 20))\n",
    "# j = 0\n",
    "# for i in range(4):\n",
    "#     # idx = np.random.randint(6624)\n",
    "#     sub = fig.add_subplot(4, 2, j + 1)\n",
    "#     j = j+1\n",
    "#     idx = np.random.randint(images_pair.shape[0])\n",
    "#     sub.imshow(images_pair[idx,0,:,:,:].transpose(1,2,0).astype('int'))\n",
    "#     sub.set_ylabel(labels_pair[idx], fontsize=16)\n",
    "#     sub.set_xlabel(idx, fontsize=16)\n",
    "#     sub = fig.add_subplot(4, 2, j + 1)\n",
    "#     j = j+1\n",
    "#     sub.imshow(images_pair[idx,1,:,:,:].transpose(1,2,0).astype('int'))\n",
    "#     sub.set_ylabel(labels_pair[idx], fontsize=16)\n",
    "#     sub.set_xlabel(idx, fontsize=16)\n",
    "\n",
    "# plt.show(block=True)"
   ]
  },
  {
   "cell_type": "markdown",
   "metadata": {},
   "source": [
    "# Run the model training"
   ]
  },
  {
   "cell_type": "code",
   "execution_count": 20,
   "metadata": {},
   "outputs": [],
   "source": [
    "model = siamese_model()\n",
    "# model.save_weights('weights_base.h5')"
   ]
  },
  {
   "cell_type": "code",
   "execution_count": 21,
   "metadata": {},
   "outputs": [
    {
     "name": "stdout",
     "output_type": "stream",
     "text": [
      "0.01\n"
     ]
    }
   ],
   "source": [
    "model.load_weights('weights_base.h5')\n",
    "# model.load_weights('weights_logits.h5')\n",
    "# model = siamese_model()\n",
    "compile_model(model, 0.01)\n",
    "print(k.eval(model.optimizer.lr))\n",
    "callbacks = tf.keras.callbacks.EarlyStopping(monitor='val_loss', patience=5, start_from_epoch=5, restore_best_weights=True)"
   ]
  },
  {
   "cell_type": "code",
   "execution_count": 23,
   "metadata": {},
   "outputs": [
    {
     "name": "stdout",
     "output_type": "stream",
     "text": [
      "Epoch 1/5\n",
      "7/7 [==============================] - 8s 1s/step - loss: 0.7066 - binary_accuracy: 0.4955 - val_loss: 0.6918 - val_binary_accuracy: 0.4911\n",
      "Epoch 2/5\n",
      "7/7 [==============================] - 16s 2s/step - loss: 0.6927 - binary_accuracy: 0.5224 - val_loss: 0.6909 - val_binary_accuracy: 0.5268\n",
      "Epoch 3/5\n",
      "7/7 [==============================] - 12s 2s/step - loss: 0.6877 - binary_accuracy: 0.5448 - val_loss: 0.6928 - val_binary_accuracy: 0.5089\n",
      "Epoch 4/5\n",
      "7/7 [==============================] - 12s 2s/step - loss: 0.6890 - binary_accuracy: 0.5493 - val_loss: 0.6771 - val_binary_accuracy: 0.5982\n",
      "Epoch 5/5\n",
      "7/7 [==============================] - 11s 2s/step - loss: 0.6964 - binary_accuracy: 0.4978 - val_loss: 0.7014 - val_binary_accuracy: 0.4643\n"
     ]
    }
   ],
   "source": [
    "history = model.fit([X_train[:, 0], X_train[:, 1]], y_train[:], validation_data=([X_val[:,0], X_val[:,1]], y_val[:]), batch_size=64, epochs=5, callbacks=callbacks)"
   ]
  },
  {
   "cell_type": "markdown",
   "metadata": {},
   "source": [
    "### Prediction and Result Analysis"
   ]
  },
  {
   "cell_type": "code",
   "execution_count": 27,
   "metadata": {},
   "outputs": [
    {
     "data": {
      "text/plain": [
       "(446, 2, 3, 100, 100)"
      ]
     },
     "execution_count": 27,
     "metadata": {},
     "output_type": "execute_result"
    }
   ],
   "source": [
    "X_train.shape"
   ]
  },
  {
   "cell_type": "code",
   "execution_count": 31,
   "metadata": {},
   "outputs": [],
   "source": [
    "images_pair = np.append(X_train, X_val, axis = 0)"
   ]
  },
  {
   "cell_type": "code",
   "execution_count": 32,
   "metadata": {},
   "outputs": [
    {
     "name": "stdout",
     "output_type": "stream",
     "text": [
      "18/18 [==============================] - 2s 110ms/step\n"
     ]
    }
   ],
   "source": [
    "labels_pred = model.predict([images_pair[:, 0], images_pair[:, 1]])"
   ]
  },
  {
   "cell_type": "code",
   "execution_count": 40,
   "metadata": {},
   "outputs": [
    {
     "ename": "NameError",
     "evalue": "name 'labels_pair' is not defined",
     "output_type": "error",
     "traceback": [
      "\u001b[0;31m---------------------------------------------------------------------------\u001b[0m",
      "\u001b[0;31mNameError\u001b[0m                                 Traceback (most recent call last)",
      "Cell \u001b[0;32mIn[40], line 27\u001b[0m\n\u001b[1;32m     25\u001b[0m sub\u001b[39m.\u001b[39mplot(labels_pred[::\u001b[39m2\u001b[39m])\n\u001b[1;32m     26\u001b[0m \u001b[39m# sub.plot(np.round(labels_pred[::2]))\u001b[39;00m\n\u001b[0;32m---> 27\u001b[0m sub\u001b[39m.\u001b[39mplot(labels_pair[::\u001b[39m2\u001b[39m])\n\u001b[1;32m     29\u001b[0m sub \u001b[39m=\u001b[39m fig\u001b[39m.\u001b[39madd_subplot(\u001b[39m1\u001b[39m, \u001b[39m2\u001b[39m, \u001b[39m2\u001b[39m)\n\u001b[1;32m     30\u001b[0m sub\u001b[39m.\u001b[39mplot(labels_pred[\u001b[39m1\u001b[39m::\u001b[39m2\u001b[39m])\n",
      "\u001b[0;31mNameError\u001b[0m: name 'labels_pair' is not defined"
     ]
    },
    {
     "data": {
      "image/png": "[encoded data removed]",
      "text/plain": [
       "<Figure size 640x480 with 1 Axes>"
      ]
     },
     "metadata": {},
     "output_type": "display_data"
    },
    {
     "data": {
      "image/png": "[encoded data removed]",
      "text/plain": [
       "<Figure size 1000x500 with 1 Axes>"
      ]
     },
     "metadata": {},
     "output_type": "display_data"
    }
   ],
   "source": [
    "import seaborn as sns\n",
    "import pandas as pd\n",
    "def plot_history(history, metrics):\n",
    "    \"\"\"\n",
    "    Plot the training history\n",
    "\n",
    "    Args:\n",
    "        history (keras History object that is returned by model.fit())\n",
    "        metrics (str, list): Metric or a list of metrics to plot\n",
    "    \"\"\"\n",
    "    fig1 = plt.figure()\n",
    "    history_df = pd.DataFrame.from_dict(history.history)\n",
    "    # for metric in metrics:\n",
    "    plt.plot(history_df[metrics], label=metrics)\n",
    "    plt.xlabel(\"epochs\")\n",
    "    plt.ylabel(\"metric\")\n",
    "    plt.legend()\n",
    "    plt.ylim(0, 1)\n",
    "\n",
    "plot_history(history, ['loss', 'binary_accuracy', 'val_loss', 'val_binary_accuracy'] )\n",
    "\n",
    "fig = plt.figure(figsize=(10, 5))\n",
    "\n",
    "sub = fig.add_subplot(1, 2, 1)\n",
    "sub.plot(labels_pred[::2])\n",
    "# sub.plot(np.round(labels_pred[::2]))\n",
    "sub.plot(labels_pair[::2])\n",
    "\n",
    "sub = fig.add_subplot(1, 2, 2)\n",
    "sub.plot(labels_pred[1::2])\n",
    "# sub.plot(np.round(labels_pred[1::2]))\n",
    "sub.plot(labels_pair[1::2])\n",
    "\n",
    "fig2 = plt.figure(figsize=(10, 5))\n",
    "\n",
    "counts, bins = np.histogram(labels_pred[::2])\n",
    "sub = fig2.add_subplot(1, 2, 1)\n",
    "sub.stairs(counts, bins)\n",
    "# sub.plot(np.round(labels_pred[::2]))\n",
    "# sub.plot(labels_pair[::2])\n",
    "\n",
    "sub = fig2.add_subplot(1, 2, 2)\n",
    "counts, bins = np.histogram(labels_pred[1::2])\n",
    "sub.stairs(counts, bins)\n",
    "# sub.plot(np.round(labels_pred[1::2]))\n",
    "# sub.plot(labels_pair[1::2])\n"
   ]
  },
  {
   "cell_type": "code",
   "execution_count": null,
   "metadata": {},
   "outputs": [],
   "source": []
  }
 ],
 "metadata": {
  "kernelspec": {
   "display_name": "xai4geo",
   "language": "python",
   "name": "python3"
  },
  "language_info": {
   "codemirror_mode": {
    "name": "ipython",
    "version": 3
   },
   "file_extension": ".py",
   "mimetype": "text/x-python",
   "name": "python",
   "nbconvert_exporter": "python",
   "pygments_lexer": "ipython3",
   "version": "3.11.5"
  },
  "orig_nbformat": 4
 },
 "nbformat": 4,
 "nbformat_minor": 2
}
