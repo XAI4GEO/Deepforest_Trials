{
 "cells": [
  {
   "cell_type": "markdown",
   "id": "46a7fce6",
   "metadata": {},
   "source": [
    "Testing the deep forest module on a part of the SVMA data\n",
    "\n",
    "Instructions: https://deepforest.readthedocs.io/en/latest/getting_started.html#issues\n",
    "\n",
    "Modifications:\n",
    "- first run throws an error regarding incompatible torch/torchvision. Reinstalled after installing deep forest using the following command in anaconda prompt, correct environmnt:\n",
    "uninstall torch torchvision && pip install torch torchvision --no-cache-dir"
   ]
  },
  {
   "cell_type": "code",
   "execution_count": null,
   "id": "f181703b-2205-4bc1-ad3b-4ccc3ab73c18",
   "metadata": {
    "tags": []
   },
   "outputs": [],
   "source": [
    "import matplotlib.pyplot as plt\n",
    "from pathlib import Path\n",
    "\n",
    "import rioxarray"
   ]
  },
  {
   "cell_type": "code",
   "execution_count": null,
   "id": "5470eeaf",
   "metadata": {},
   "outputs": [],
   "source": [
    "data_image = Path('../../data/Fieldwork_data/PNM/gpkg_borore/area_recortada_mosaico.tif')\n",
    "image_uav = rioxarray.open_rasterio(data_image).isel(band=range(3))"
   ]
  },
  {
   "cell_type": "code",
   "execution_count": null,
   "id": "e397361e",
   "metadata": {},
   "outputs": [],
   "source": [
    "image_uav"
   ]
  },
  {
   "cell_type": "markdown",
   "id": "a3c03e4d",
   "metadata": {},
   "source": [
    "### Split a big image to crops"
   ]
  },
  {
   "cell_type": "code",
   "execution_count": null,
   "id": "e6d0f0db",
   "metadata": {},
   "outputs": [],
   "source": [
    "from deepforest_exp import make_crops\n",
    "\n",
    "# Define crops by tif coordinates\n",
    "crop_centers = [(331_050,7366_550), (331_050,7366_660), (331_150,7366_650), (331_250,7366_800), (331_350,7366_810), (331_400,7366_900)]\n",
    "crop_sizes = 55\n",
    "\n",
    "img_crops = make_crops(image_uav, crop_centers, crop_sizes)"
   ]
  },
  {
   "cell_type": "markdown",
   "id": "c96dba0c",
   "metadata": {},
   "source": [
    "### Predict tree crowns on crops"
   ]
  },
  {
   "cell_type": "code",
   "execution_count": null,
   "id": "9e59776f",
   "metadata": {},
   "outputs": [],
   "source": [
    "# Predict all crops with one set of parameters\n",
    "from deepforest_exp import predict_crops\n",
    "\n",
    "tile_size = 500\n",
    "overlap_ratio = 0.45\n",
    "\n",
    "gdf_prediction = predict_crops(img_crops, tile_size, overlap_ratio)"
   ]
  },
  {
   "cell_type": "code",
   "execution_count": null,
   "id": "21787f7a",
   "metadata": {},
   "outputs": [],
   "source": [
    "gdf_prediction"
   ]
  },
  {
   "cell_type": "code",
   "execution_count": null,
   "id": "cbf7a234",
   "metadata": {},
   "outputs": [],
   "source": [
    "fig, axes = plt.subplots(2,3)\n",
    "fig.set_size_inches(15, 9)\n",
    "for img, ax in zip(img_crops, axes.flatten()):\n",
    "    xmin, ymin, xmax, ymax = img.rio.bounds()\n",
    "    predicts = gdf_prediction.cx[xmin:xmax, ymin:ymax]\n",
    "    img.plot.imshow(ax=ax)\n",
    "    predicts.plot(ax=ax, facecolor=\"none\", edgecolor=\"red\")\n",
    "    ax.set_aspect('equal', adjustable='box')\n",
    "fig.tight_layout()"
   ]
  },
  {
   "cell_type": "markdown",
   "id": "e3644ed4",
   "metadata": {},
   "source": [
    "### Predict on crops, trest combinations of different parameters"
   ]
  },
  {
   "cell_type": "code",
   "execution_count": null,
   "id": "59e984a3",
   "metadata": {},
   "outputs": [],
   "source": [
    "# Predict all crops with one set of parameters\n",
    "from deepforest_exp import predict_experiments\n",
    "\n",
    "# Define param search space\n",
    "tile_sizes = [500, 600] \n",
    "overlap_ratios = [0.35, 0.45]\n",
    "\n",
    "# Predict for all combinations\n",
    "predicts_experiments = predict_experiments(img_crops, tile_sizes, overlap_ratios)"
   ]
  },
  {
   "cell_type": "code",
   "execution_count": null,
   "id": "9f8e7bd4",
   "metadata": {},
   "outputs": [],
   "source": [
    "predicts_experiments"
   ]
  }
 ],
 "metadata": {
  "kernelspec": {
   "display_name": "Python 3 (ipykernel)",
   "language": "python",
   "name": "python3"
  },
  "language_info": {
   "codemirror_mode": {
    "name": "ipython",
    "version": 3
   },
   "file_extension": ".py",
   "mimetype": "text/x-python",
   "name": "python",
   "nbconvert_exporter": "python",
   "pygments_lexer": "ipython3",
   "version": "3.11.5"
  }
 },
 "nbformat": 4,
 "nbformat_minor": 5
}
