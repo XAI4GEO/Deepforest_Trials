{
 "cells": [
  {
   "cell_type": "code",
   "execution_count": null,
   "metadata": {},
   "outputs": [],
   "source": [
    "from pathlib import Path\n",
    "import geopandas as gpd\n",
    "from matplotlib import pyplot as plt\n",
    "import rioxarray"
   ]
  },
  {
   "cell_type": "code",
   "execution_count": null,
   "metadata": {},
   "outputs": [],
   "source": [
    "f_tree_locations = Path('../../data/Tree_location1.gpkg')\n",
    "data_image = Path('../../data/Fieldwork_data/PNM/gpkg_borore/area_recortada_mosaico.tif')"
   ]
  },
  {
   "cell_type": "markdown",
   "metadata": {},
   "source": [
    "## Select labels"
   ]
  },
  {
   "cell_type": "code",
   "execution_count": null,
   "metadata": {},
   "outputs": [],
   "source": [
    "tree_locs = gpd.read_file(f_tree_locations)"
   ]
  },
  {
   "cell_type": "code",
   "execution_count": null,
   "metadata": {},
   "outputs": [],
   "source": [
    "def _is_round(row, num_vertex=10):\n",
    "    # Polygons with >num_vertex vertex are considered to be round \n",
    "    return len(list(row['geometry'].exterior.coords))>num_vertex"
   ]
  },
  {
   "cell_type": "code",
   "execution_count": null,
   "metadata": {},
   "outputs": [],
   "source": [
    "# Select squares from the tree labels\n",
    "gdf_treelabels = tree_locs.where(~tree_locs.apply(_is_round, axis=1)).dropna(how='all')"
   ]
  },
  {
   "cell_type": "code",
   "execution_count": null,
   "metadata": {},
   "outputs": [],
   "source": [
    "image_uav = rioxarray.open_rasterio(data_image).isel(band=range(3))\n",
    "\n",
    "fig, ax = plt.subplots()\n",
    "image_uav.plot.imshow()\n",
    "gdf_treelabels.plot(ax=ax, facecolor=\"none\", edgecolor=\"red\")"
   ]
  },
  {
   "cell_type": "markdown",
   "metadata": {},
   "source": [
    "## Make Crops"
   ]
  },
  {
   "cell_type": "code",
   "execution_count": null,
   "metadata": {},
   "outputs": [],
   "source": [
    "from deepforest_exp import make_crops\n",
    "\n",
    "# # Define crops by tif coordinates (a set of smaller tiles)\n",
    "# crop_centers = [(331_050,7366_595), (331_175,7366_700), \n",
    "#                 (331_080,7366_780), (331_090,7366_815),\n",
    "#                 (331_140,7366_820), (331_200,7366_845), \n",
    "#                 (331_210,7366_895), (331_280,7366_885),\n",
    "#                 ]\n",
    "# crop_sizes = 60\n",
    "\n",
    "# Define crops by tif coordinates\n",
    "crop_centers = [(331_050,7366_595), (331_175,7366_700), \n",
    "                (331_100,7366_790), (331_240,7366_870)\n",
    "                ]\n",
    "crop_sizes = 135\n",
    "\n",
    "img_crops = make_crops(image_uav, crop_centers, crop_sizes)"
   ]
  },
  {
   "cell_type": "code",
   "execution_count": null,
   "metadata": {},
   "outputs": [],
   "source": [
    "fig, axes = plt.subplots(2,2)\n",
    "fig.set_size_inches(15, 15)\n",
    "for img, ax in zip(img_crops, axes.flatten()):\n",
    "    xmin, ymin, xmax, ymax = img.rio.bounds()\n",
    "    boxes = gdf_treelabels.cx[xmin:xmax, ymin:ymax]\n",
    "    img.plot.imshow(ax=ax)\n",
    "    boxes.plot(ax=ax, facecolor=\"none\", edgecolor=\"red\")\n",
    "    ax.set_aspect('equal', adjustable='box')\n",
    "fig.tight_layout()"
   ]
  },
  {
   "cell_type": "code",
   "execution_count": null,
   "metadata": {},
   "outputs": [],
   "source": [
    "# Predict with one set of parameters\n",
    "from deepforest_exp import predict_crops\n",
    "\n",
    "tile_size = 800\n",
    "overlap_ratio = 0.35\n",
    "\n",
    "gdf_prediction = predict_crops(img_crops, tile_size, overlap_ratio)\n",
    "gdf_prediction.to_file(f'prediction/tile{tile_size}_overlap{overlap_ratio:.2f}.shp')"
   ]
  },
  {
   "cell_type": "code",
   "execution_count": null,
   "metadata": {},
   "outputs": [],
   "source": [
    "fig, axes = plt.subplots(2,2)\n",
    "fig.set_size_inches(10, 10)\n",
    "for img, ax in zip(img_crops, axes.flatten()):\n",
    "    xmin, ymin, xmax, ymax = img.rio.bounds()\n",
    "    labels = gdf_treelabels.cx[xmin:xmax, ymin:ymax]\n",
    "    predictions = gdf_prediction.cx[xmin:xmax, ymin:ymax]\n",
    "    img.plot.imshow(ax=ax)\n",
    "    labels.plot(ax=ax, facecolor=\"none\", edgecolor=\"blue\")\n",
    "    predictions.plot(ax=ax, facecolor=\"none\", edgecolor=\"red\")\n",
    "    ax.set_aspect('equal', adjustable='box')\n",
    "fig.tight_layout()"
   ]
  },
  {
   "cell_type": "markdown",
   "metadata": {},
   "source": [
    "## Select prediction results"
   ]
  },
  {
   "cell_type": "code",
   "execution_count": null,
   "metadata": {},
   "outputs": [],
   "source": [
    "# Load the prediction\n",
    "gdf_prediction =  gpd.read_file('prediction/crop_2200/tile800_overlap0.45.shp')"
   ]
  },
  {
   "cell_type": "code",
   "execution_count": null,
   "metadata": {},
   "outputs": [],
   "source": [
    "# Check prediction score histogram\n",
    "gdf_prediction['score'].hist(bins=40)"
   ]
  },
  {
   "cell_type": "code",
   "execution_count": null,
   "metadata": {},
   "outputs": [],
   "source": [
    "gdf_prediction_subset = gdf_prediction[gdf_prediction['score']>0.3]\n",
    "gdf_prediction_subset = gdf_prediction_subset[gdf_prediction_subset['geometry'].area>20]"
   ]
  },
  {
   "cell_type": "code",
   "execution_count": null,
   "metadata": {},
   "outputs": [],
   "source": [
    "fig, axes = plt.subplots(2,2)\n",
    "fig.set_size_inches(10, 10)\n",
    "for img, ax in zip(img_crops, axes.flatten()):\n",
    "    xmin, ymin, xmax, ymax = img.rio.bounds()\n",
    "    labels = gdf_treelabels.cx[xmin:xmax, ymin:ymax]\n",
    "    predictions = gdf_prediction_subset.cx[xmin:xmax, ymin:ymax]\n",
    "    img.plot.imshow(ax=ax)\n",
    "    labels.plot(ax=ax, facecolor=\"none\", edgecolor=\"blue\")\n",
    "    predictions.plot(ax=ax, facecolor=\"none\", edgecolor=\"red\")\n",
    "    ax.set_aspect('equal', adjustable='box')\n",
    "fig.tight_layout()"
   ]
  },
  {
   "cell_type": "markdown",
   "metadata": {},
   "source": [
    "## Other experiments"
   ]
  },
  {
   "cell_type": "code",
   "execution_count": null,
   "metadata": {},
   "outputs": [],
   "source": [
    "# from deepforest_exp import predict_experiments\n",
    "\n",
    "# tile_size = [1200, 1400]\n",
    "# overlap_ratio = [0.25, 0.35]\n",
    "\n",
    "# dict_prediction = predict_experiments(img_crops, tile_size, overlap_ratio)"
   ]
  },
  {
   "cell_type": "code",
   "execution_count": null,
   "metadata": {},
   "outputs": [],
   "source": [
    "# outdir = Path('prediction')\n",
    "# for key, item in dict_prediction.items():\n",
    "#     item.to_file(outdir/ f'{key}.shp')"
   ]
  },
  {
   "cell_type": "code",
   "execution_count": null,
   "metadata": {},
   "outputs": [],
   "source": [
    "# for file in outdir.glob('*.shp'):\n",
    "#     gdf_prediction = gpd.read_file(file)"
   ]
  },
  {
   "cell_type": "code",
   "execution_count": null,
   "metadata": {},
   "outputs": [],
   "source": [
    "# outdir = Path('prediction')\n",
    "\n",
    "# for file in outdir.glob('*.shp'):\n",
    "#     gdf_prediction = gpd.read_file(file)\n",
    "#     fig, axes = plt.subplots(2,2)\n",
    "#     fig.set_size_inches(15, 15)\n",
    "#     for img, ax in zip(img_crops, axes.flatten()):\n",
    "#         xmin, ymin, xmax, ymax = img.rio.bounds()\n",
    "#         labels = gdf_treelabels.cx[xmin:xmax, ymin:ymax]\n",
    "#         predictions = gdf_prediction.cx[xmin:xmax, ymin:ymax]\n",
    "#         img.plot.imshow(ax=ax)\n",
    "#         labels.plot(ax=ax, facecolor=\"none\", edgecolor=\"blue\")\n",
    "#         predictions.plot(ax=ax, facecolor=\"none\", edgecolor=\"red\")\n",
    "#         ax.set_aspect('equal', adjustable='box')\n",
    "#     fig.tight_layout()\n",
    "#     fig.savefig(outdir/ f'{file.stem}.png')"
   ]
  }
 ],
 "metadata": {
  "kernelspec": {
   "display_name": "xai4geo",
   "language": "python",
   "name": "python3"
  },
  "language_info": {
   "codemirror_mode": {
    "name": "ipython",
    "version": 3
   },
   "file_extension": ".py",
   "mimetype": "text/x-python",
   "name": "python",
   "nbconvert_exporter": "python",
   "pygments_lexer": "ipython3",
   "version": "3.11.5"
  },
  "orig_nbformat": 4
 },
 "nbformat": 4,
 "nbformat_minor": 2
}
