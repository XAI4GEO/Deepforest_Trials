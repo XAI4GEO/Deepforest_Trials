{
 "cells": [
  {
   "cell_type": "markdown",
   "id": "46a7fce6",
   "metadata": {},
   "source": [
    "Testing the deep forest module on a part of the SVMA data\n",
    "\n",
    "Instructions: https://deepforest.readthedocs.io/en/latest/getting_started.html#issues\n",
    "\n",
    "Modifications:\n",
    "- first run throws an error regarding incompatible torch/torchvision. Reinstalled after installing deep forest using the following command in anaconda prompt, correct environmnt:\n",
    "uninstall torch torchvision && pip install torch torchvision --no-cache-dir"
   ]
  },
  {
   "cell_type": "code",
   "execution_count": null,
   "id": "f181703b-2205-4bc1-ad3b-4ccc3ab73c18",
   "metadata": {
    "tags": []
   },
   "outputs": [],
   "source": [
    "from deepforest import main\n",
    "from deepforest import get_data\n",
    "from deepforest import utilities\n",
    "\n",
    "import matplotlib.pyplot as plt\n",
    "from pathlib import Path\n",
    "\n",
    "model = main.deepforest()\n",
    "model.use_release()\n"
   ]
  },
  {
   "cell_type": "code",
   "execution_count": null,
   "id": "af17f289",
   "metadata": {},
   "outputs": [],
   "source": [
    "def reverse_RGB(img):\n",
    "    return img[:,:,::-1]"
   ]
  },
  {
   "cell_type": "code",
   "execution_count": null,
   "id": "5470eeaf",
   "metadata": {},
   "outputs": [],
   "source": [
    "import cv2\n",
    "data_image = Path('../../data/Fieldwork_data/PNM/gpkg_borore/area_recortada_mosaico.tif')\n",
    "image_whole = reverse_RGB(cv2.imread(data_image.as_posix()))"
   ]
  },
  {
   "cell_type": "code",
   "execution_count": null,
   "id": "9edb249f",
   "metadata": {},
   "outputs": [],
   "source": [
    "fig, ax = plt.subplots()\n",
    "fig.set_size_inches(9.7, 7.6)\n",
    "ax.imshow(image_whole)"
   ]
  },
  {
   "cell_type": "code",
   "execution_count": null,
   "id": "8ff770ef-b8bf-4601-9667-13415e92edbb",
   "metadata": {},
   "outputs": [],
   "source": [
    "bbox1 = [4200,5000, 1200, 2000] # t, b, l, r, \n",
    "bbox2 = [5000,5800, 2000, 2800]\n",
    "bbox3 = [1200, 2000, 3700, 4500]\n",
    "bbox4 = [2000, 2800, 4500, 5300]\n",
    "bbox5 = [700, 1500, 6200, 7000]\n",
    "bbox6 = [700, 1500, 7000, 7800]\n",
    "list_bbox = [bbox1, bbox2, bbox3, bbox4, bbox5, bbox6]"
   ]
  },
  {
   "cell_type": "code",
   "execution_count": null,
   "id": "4fca8997",
   "metadata": {},
   "outputs": [],
   "source": [
    "import cv2\n",
    "\n",
    "list_imgs = []\n",
    "for bbox in list_bbox:\n",
    "    img = image_whole[bbox[0]:bbox[1], bbox[2]:bbox[3], :]\n",
    "    list_imgs.append(img)"
   ]
  },
  {
   "cell_type": "code",
   "execution_count": null,
   "id": "cbf7a234",
   "metadata": {},
   "outputs": [],
   "source": [
    "fig, axes = plt.subplots(2,3)\n",
    "fig.set_size_inches(15, 9)\n",
    "for img, ax in zip(list_imgs, axes.flatten()):\n",
    "    ax.imshow(img)\n",
    "    ax.set_aspect('equal', adjustable='box')\n",
    "fig.tight_layout()"
   ]
  },
  {
   "cell_type": "code",
   "execution_count": null,
   "id": "90579459-da21-4309-a10b-6b1da83e17ee",
   "metadata": {},
   "outputs": [],
   "source": [
    "# Bench mark prediction\n",
    "fig, axes = plt.subplots(2,3)\n",
    "fig.set_size_inches(15, 9)\n",
    "for img, ax in zip(list_imgs, axes.flatten()):\n",
    "    predicted_img = model.predict_image(image=img, return_plot=True, thickness=5, color=[150, 0, 230])\n",
    "    ax.imshow(reverse_RGB(predicted_img))\n",
    "    ax.set_aspect('equal', adjustable='box')\n",
    "fig.savefig('plots/benchmark.png')"
   ]
  },
  {
   "cell_type": "code",
   "execution_count": null,
   "id": "d2d351a3-683f-4327-9989-b31efa3554f4",
   "metadata": {},
   "outputs": [],
   "source": [
    "patch_size_range = range(200,600,100)\n",
    "patch_overlap=0.35\n",
    "\n",
    "for patch_size in patch_size_range:\n",
    "    list_imgs_predict = []\n",
    "\n",
    "    fig, axes = plt.subplots(2,3)\n",
    "    fig.set_size_inches(15, 9)\n",
    "    for img, ax in zip(list_imgs, axes.flatten()):\n",
    "        predicted_img = model.predict_tile(image=img, return_plot=True, thickness=5, color=[150, 0, 230], patch_size=patch_size,patch_overlap=patch_overlap)\n",
    "        ax.imshow(reverse_RGB(predicted_img))\n",
    "        ax.set_aspect('equal', adjustable='box')\n",
    "    fig.savefig(f'plots/patchsize{patch_size}_overlap{patch_overlap}.png')"
   ]
  },
  {
   "cell_type": "code",
   "execution_count": null,
   "id": "4bf97bc0",
   "metadata": {},
   "outputs": [],
   "source": [
    "import numpy as np\n",
    "patch_size = 500\n",
    "patch_overlap_range=np.arange(0.25,0.75,0.1)\n",
    "\n",
    "for patch_overlap in patch_overlap_range:\n",
    "    list_imgs_predict = []\n",
    "    fig, axes = plt.subplots(2,3)\n",
    "    fig.set_size_inches(20, 12)\n",
    "    for img, ax in zip(list_imgs, axes.flatten()):\n",
    "        predicted_img = model.predict_tile(image=img, return_plot=True, thickness=5, color=[150, 0, 230], patch_size=patch_size,patch_overlap=patch_overlap)\n",
    "        ax.imshow(reverse_RGB(predicted_img))\n",
    "        ax.set_aspect('equal', adjustable='box')\n",
    "    fig.savefig(f'plots/patchsize{patch_size}_overlap{patch_overlap}.png')"
   ]
  },
  {
   "cell_type": "code",
   "execution_count": null,
   "id": "77646a51",
   "metadata": {},
   "outputs": [],
   "source": [
    "patch_size = 600\n",
    "patch_overlap = 0.35\n",
    "use_soft_nms_list = [True, False]\n",
    "\n",
    "\n",
    "for flag_nms in use_soft_nms_list:\n",
    "    list_imgs_predict = []\n",
    "    fig, axes = plt.subplots(2,3)\n",
    "    fig.set_size_inches(15, 9)\n",
    "    for img, ax in zip(list_imgs, axes):\n",
    "        predicted_img = model.predict_tile(\n",
    "            image=img,\n",
    "            return_plot=True,\n",
    "            thickness=5,\n",
    "            color=[150, 0, 230],\n",
    "            patch_size=patch_size,\n",
    "            patch_overlap=patch_overlap,\n",
    "            use_soft_nms=flag_nms\n",
    "        )\n",
    "        ax.imshow(reverse_RGB(predicted_img))\n",
    "        ax.set_aspect(\"equal\", adjustable=\"box\")\n",
    "    fig.savefig(f\"plots/patchsize{patch_size}_overlap{patch_overlap}_nms{str(flag_nms)}.png\")"
   ]
  }
 ],
 "metadata": {
  "kernelspec": {
   "display_name": "Python 3 (ipykernel)",
   "language": "python",
   "name": "python3"
  },
  "language_info": {
   "codemirror_mode": {
    "name": "ipython",
    "version": 3
   },
   "file_extension": ".py",
   "mimetype": "text/x-python",
   "name": "python",
   "nbconvert_exporter": "python",
   "pygments_lexer": "ipython3",
   "version": "3.11.5"
  }
 },
 "nbformat": 4,
 "nbformat_minor": 5
}
