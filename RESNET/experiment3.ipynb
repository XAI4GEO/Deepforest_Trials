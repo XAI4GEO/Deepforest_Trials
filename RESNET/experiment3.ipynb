{
 "cells": [
  {
   "cell_type": "markdown",
   "metadata": {},
   "source": [
    "# Set Parameters for run:"
   ]
  },
  {
   "cell_type": "code",
   "execution_count": 42,
   "metadata": {},
   "outputs": [],
   "source": [
    "# Data Parameters\n",
    "train_test_split_size = 0.1\n",
    "random_state = 0\n",
    "shuffle = True\n",
    "\n",
    "# Architecture Parameters\n",
    "base_model='ResNet50V2'\n",
    "activation = 'softmax'\n",
    "\n",
    "# Compile options\n",
    "metrics = ['accuracy']\n",
    "optimizer = keras.optimizers.Adam()\n",
    "loss_function = keras.losses.CategoricalCrossentropy(from_logits=False)\n",
    "\n",
    "# Training Parameters\n",
    "batch_size = 32\n",
    "epochs = 50 "
   ]
  },
  {
   "cell_type": "code",
   "execution_count": 1,
   "metadata": {},
   "outputs": [
    {
     "name": "stderr",
     "output_type": "stream",
     "text": [
      "2023-09-01 10:17:54.270338: I tensorflow/core/util/port.cc:110] oneDNN custom operations are on. You may see slightly different numerical results due to floating-point round-off errors from different computation orders. To turn them off, set the environment variable `TF_ENABLE_ONEDNN_OPTS=0`.\n",
      "2023-09-01 10:17:54.621713: I tensorflow/core/platform/cpu_feature_guard.cc:182] This TensorFlow binary is optimized to use available CPU instructions in performance-critical operations.\n",
      "To enable the following instructions: SSE4.1 SSE4.2 AVX AVX2 AVX512F AVX512_VNNI FMA, in other operations, rebuild TensorFlow with the appropriate compiler flags.\n"
     ]
    }
   ],
   "source": [
    "import keras\n",
    "import tensorflow as tf\n",
    "import geopandas\n",
    "import matplotlib.pyplot as plt\n",
    "import pandas as pd\n",
    "import rioxarray\n",
    "import numpy as np\n",
    "import IDTreeS_dataset"
   ]
  },
  {
   "cell_type": "markdown",
   "metadata": {},
   "source": [
    "### Set Keras backend for image data format"
   ]
  },
  {
   "cell_type": "code",
   "execution_count": 2,
   "metadata": {},
   "outputs": [],
   "source": [
    "keras.backend.set_image_data_format('channels_first')"
   ]
  },
  {
   "cell_type": "markdown",
   "metadata": {},
   "source": [
    "### Load ResNet50V2 model from Keras and freeze weights"
   ]
  },
  {
   "cell_type": "code",
   "execution_count": 38,
   "metadata": {},
   "outputs": [
    {
     "ename": "ValueError",
     "evalue": "Base model not defined",
     "output_type": "error",
     "traceback": [
      "\u001b[0;31m---------------------------------------------------------------------------\u001b[0m",
      "\u001b[0;31mValueError\u001b[0m                                Traceback (most recent call last)",
      "Cell \u001b[0;32mIn[38], line 10\u001b[0m\n\u001b[1;32m      2\u001b[0m     base_model \u001b[39m=\u001b[39m tf\u001b[39m.\u001b[39mkeras\u001b[39m.\u001b[39mapplications\u001b[39m.\u001b[39mResNet50V2(\n\u001b[1;32m      3\u001b[0m         include_top\u001b[39m=\u001b[39m\u001b[39mFalse\u001b[39;00m,\n\u001b[1;32m      4\u001b[0m         weights\u001b[39m=\u001b[39m\u001b[39m\"\u001b[39m\u001b[39mimagenet\u001b[39m\u001b[39m\"\u001b[39m,\n\u001b[0;32m   (...)\u001b[0m\n\u001b[1;32m      7\u001b[0m         pooling\u001b[39m=\u001b[39m\u001b[39mNone\u001b[39;00m\n\u001b[1;32m      8\u001b[0m     )\n\u001b[1;32m      9\u001b[0m \u001b[39melse\u001b[39;00m:\n\u001b[0;32m---> 10\u001b[0m     \u001b[39mraise\u001b[39;00m \u001b[39mValueError\u001b[39;00m(\u001b[39m'\u001b[39m\u001b[39mBase model not defined\u001b[39m\u001b[39m'\u001b[39m)\n",
      "\u001b[0;31mValueError\u001b[0m: Base model not defined"
     ]
    }
   ],
   "source": [
    "if base_model == 'ResNet50V2':\n",
    "    base_model = tf.keras.applications.ResNet50V2(\n",
    "        include_top=False,\n",
    "        weights=\"imagenet\",\n",
    "        input_tensor=None,\n",
    "        input_shape=None,\n",
    "        pooling=None\n",
    "    )\n",
    "else:\n",
    "    raise ValueError('Base model not defined')"
   ]
  },
  {
   "cell_type": "code",
   "execution_count": 5,
   "metadata": {},
   "outputs": [],
   "source": [
    "base_model.trainable = False"
   ]
  },
  {
   "cell_type": "markdown",
   "metadata": {},
   "source": [
    "### Load data and set model parameters"
   ]
  },
  {
   "cell_type": "code",
   "execution_count": 8,
   "metadata": {},
   "outputs": [],
   "source": [
    "import glob\n",
    "\n",
    "from rioxarray.exceptions import NoDataInBounds\n",
    "from sklearn.preprocessing import LabelEncoder "
   ]
  },
  {
   "cell_type": "code",
   "execution_count": 22,
   "metadata": {},
   "outputs": [],
   "source": [
    "# Data Loader from IDTreeS Dataset\n",
    "rgb_paths = glob.glob('./train/RemoteSensing/RGB/*.tif')\n",
    "bboxes_paths = glob.glob('./train/ITC/train_*.shp')\n",
    "classes_path = './train/Field/train_data.csv'\n",
    "\n",
    "# Convert generator dataset in to suitable input for keras\n",
    "ds = IDTreeS_dataset.IDTreeSDataset(rgb_paths, bboxes_paths, classes_path)\n",
    "\n",
    "ids, Y, X = ds.get_cutouts()\n",
    "\n",
    "nclasses = len(np.unique(Y)) #Number of classes in training data"
   ]
  },
  {
   "cell_type": "code",
   "execution_count": 25,
   "metadata": {},
   "outputs": [],
   "source": [
    "def preprocess_data(X, Y, nclasses):\n",
    "    X_p = keras.applications.resnet_v2.preprocess_input(X)\n",
    "    Y_p = keras.utils.to_categorical(Y, nclasses)\n",
    "    return X_p, Y_p\n",
    "\n",
    "X, Y = preprocess_data(X, Y, nclasses)"
   ]
  },
  {
   "cell_type": "code",
   "execution_count": 27,
   "metadata": {},
   "outputs": [],
   "source": [
    "# Split train and test data\n",
    "from sklearn.model_selection import train_test_split\n",
    "\n",
    "X_train, X_test, y_train, y_test = train_test_split(X, Y, test_size=train_test_split_size, random_state=random_state, shuffle=shuffle)"
   ]
  },
  {
   "cell_type": "markdown",
   "metadata": {},
   "source": [
    "### Create new model using the base model plus additional layers"
   ]
  },
  {
   "cell_type": "code",
   "execution_count": 28,
   "metadata": {},
   "outputs": [
    {
     "name": "stdout",
     "output_type": "stream",
     "text": [
      "Model: \"model\"\n",
      "_________________________________________________________________\n",
      " Layer (type)                Output Shape              Param #   \n",
      "=================================================================\n",
      " input_2 (InputLayer)        [(None, 3, 100, 100)]     0         \n",
      "                                                                 \n",
      " resnet50v2 (Functional)     (None, 2048, None, None)  23564800  \n",
      "                                                                 \n",
      " global_average_pooling2d (G  (None, 2048)             0         \n",
      " lobalAveragePooling2D)                                          \n",
      "                                                                 \n",
      " dense (Dense)               (None, 9)                 18441     \n",
      "                                                                 \n",
      "=================================================================\n",
      "Total params: 23,583,241\n",
      "Trainable params: 18,441\n",
      "Non-trainable params: 23,564,800\n",
      "_________________________________________________________________\n"
     ]
    }
   ],
   "source": [
    "def create_model():\n",
    "    # Inputs\n",
    "    inputs = keras.Input(shape=(3, 100, 100))\n",
    "\n",
    "    # Run input image through our base model (ResNet)\n",
    "    x = base_model(inputs, training = False)\n",
    "\n",
    "    # Convert features from base model to a vector\n",
    "    x = keras.layers.GlobalAveragePooling2D()(x)\n",
    "\n",
    "    # # Create additional dense layers to fine tune the model\n",
    "    # x = keras.layers.Dense(256)(x)\n",
    "    # x = keras.layers.Dense(64)(x)\n",
    "\n",
    "    # Create output layer\n",
    "    outputs = keras.layers.Dense(nclasses, activation=activation)(x)\n",
    "\n",
    "    return keras.Model(inputs, outputs)\n",
    "\n",
    "model = create_model()\n",
    "model.summary()"
   ]
  },
  {
   "cell_type": "code",
   "execution_count": 29,
   "metadata": {},
   "outputs": [],
   "source": [
    "# Compile the model\n",
    "model.compile(optimizer=optimizer, \n",
    "              loss=loss_function,\n",
    "              metrics=metrics)"
   ]
  },
  {
   "cell_type": "code",
   "execution_count": 30,
   "metadata": {},
   "outputs": [
    {
     "name": "stdout",
     "output_type": "stream",
     "text": [
      "Epoch 1/50\n",
      "15/15 [==============================] - 69s 4s/step - loss: 2.1871 - accuracy: 0.1814 - val_loss: 1.9844 - val_accuracy: 0.2692\n",
      "Epoch 2/50\n",
      "15/15 [==============================] - 83s 5s/step - loss: 1.8340 - accuracy: 0.3261 - val_loss: 1.9159 - val_accuracy: 0.2500\n",
      "Epoch 3/50\n",
      "15/15 [==============================] - 84s 5s/step - loss: 1.6547 - accuracy: 0.4017 - val_loss: 1.7967 - val_accuracy: 0.2885\n",
      "Epoch 4/50\n",
      "15/15 [==============================] - 63s 4s/step - loss: 1.5379 - accuracy: 0.4471 - val_loss: 1.7310 - val_accuracy: 0.2692\n",
      "Epoch 5/50\n",
      "15/15 [==============================] - 62s 4s/step - loss: 1.4580 - accuracy: 0.4838 - val_loss: 1.7312 - val_accuracy: 0.2692\n",
      "Epoch 6/50\n",
      "15/15 [==============================] - 53s 4s/step - loss: 1.3764 - accuracy: 0.5097 - val_loss: 1.7165 - val_accuracy: 0.2885\n",
      "Epoch 7/50\n",
      "15/15 [==============================] - 84s 6s/step - loss: 1.3167 - accuracy: 0.5205 - val_loss: 1.7137 - val_accuracy: 0.3077\n",
      "Epoch 8/50\n",
      "15/15 [==============================] - 114s 8s/step - loss: 1.2598 - accuracy: 0.5508 - val_loss: 1.7162 - val_accuracy: 0.2885\n",
      "Epoch 9/50\n",
      "15/15 [==============================] - 84s 6s/step - loss: 1.2212 - accuracy: 0.5551 - val_loss: 1.6728 - val_accuracy: 0.2692\n",
      "Epoch 10/50\n",
      "15/15 [==============================] - 100s 7s/step - loss: 1.1783 - accuracy: 0.5788 - val_loss: 1.7285 - val_accuracy: 0.2885\n",
      "Epoch 11/50\n",
      "15/15 [==============================] - 102s 7s/step - loss: 1.1424 - accuracy: 0.5961 - val_loss: 1.6909 - val_accuracy: 0.3269\n",
      "Epoch 12/50\n",
      "15/15 [==============================] - 78s 5s/step - loss: 1.1088 - accuracy: 0.6328 - val_loss: 1.7289 - val_accuracy: 0.2692\n",
      "Epoch 13/50\n",
      "15/15 [==============================] - 83s 6s/step - loss: 1.0786 - accuracy: 0.6350 - val_loss: 1.6801 - val_accuracy: 0.3269\n",
      "Epoch 14/50\n",
      "15/15 [==============================] - 82s 5s/step - loss: 1.0493 - accuracy: 0.6371 - val_loss: 1.7341 - val_accuracy: 0.3077\n",
      "Epoch 15/50\n",
      "15/15 [==============================] - 80s 5s/step - loss: 1.0224 - accuracy: 0.6695 - val_loss: 1.6651 - val_accuracy: 0.3654\n",
      "Epoch 16/50\n",
      "15/15 [==============================] - 123s 8s/step - loss: 0.9924 - accuracy: 0.6803 - val_loss: 1.7212 - val_accuracy: 0.2885\n",
      "Epoch 17/50\n",
      "15/15 [==============================] - 90s 6s/step - loss: 0.9699 - accuracy: 0.6933 - val_loss: 1.7011 - val_accuracy: 0.3077\n",
      "Epoch 18/50\n",
      "15/15 [==============================] - 89s 6s/step - loss: 0.9518 - accuracy: 0.7063 - val_loss: 1.6817 - val_accuracy: 0.3654\n",
      "Epoch 19/50\n",
      "15/15 [==============================] - 85s 6s/step - loss: 0.9259 - accuracy: 0.6955 - val_loss: 1.7986 - val_accuracy: 0.2692\n",
      "Epoch 20/50\n",
      "15/15 [==============================] - 65s 4s/step - loss: 0.9099 - accuracy: 0.7300 - val_loss: 1.7201 - val_accuracy: 0.3462\n",
      "Epoch 21/50\n",
      "15/15 [==============================] - 68s 5s/step - loss: 0.8896 - accuracy: 0.7214 - val_loss: 1.6858 - val_accuracy: 0.3654\n",
      "Epoch 22/50\n",
      "15/15 [==============================] - 67s 4s/step - loss: 0.8666 - accuracy: 0.7279 - val_loss: 1.7411 - val_accuracy: 0.3077\n",
      "Epoch 23/50\n",
      "15/15 [==============================] - 69s 5s/step - loss: 0.8461 - accuracy: 0.7495 - val_loss: 1.7357 - val_accuracy: 0.3269\n",
      "Epoch 24/50\n",
      "15/15 [==============================] - 77s 5s/step - loss: 0.8282 - accuracy: 0.7667 - val_loss: 1.7447 - val_accuracy: 0.3077\n",
      "Epoch 25/50\n",
      "15/15 [==============================] - 88s 6s/step - loss: 0.8114 - accuracy: 0.7603 - val_loss: 1.7506 - val_accuracy: 0.3462\n",
      "Epoch 26/50\n",
      "15/15 [==============================] - 124s 8s/step - loss: 0.7955 - accuracy: 0.7819 - val_loss: 1.7627 - val_accuracy: 0.3269\n",
      "Epoch 27/50\n",
      "15/15 [==============================] - 81s 5s/step - loss: 0.7773 - accuracy: 0.7927 - val_loss: 1.7172 - val_accuracy: 0.3462\n",
      "Epoch 28/50\n",
      "15/15 [==============================] - 56s 4s/step - loss: 0.7703 - accuracy: 0.7689 - val_loss: 1.7895 - val_accuracy: 0.3077\n",
      "Epoch 29/50\n",
      "15/15 [==============================] - 58s 4s/step - loss: 0.7535 - accuracy: 0.7927 - val_loss: 1.7345 - val_accuracy: 0.3462\n",
      "Epoch 30/50\n",
      "15/15 [==============================] - 62s 4s/step - loss: 0.7363 - accuracy: 0.7991 - val_loss: 1.7855 - val_accuracy: 0.3269\n",
      "Epoch 31/50\n",
      "15/15 [==============================] - 47s 3s/step - loss: 0.7297 - accuracy: 0.7905 - val_loss: 1.7855 - val_accuracy: 0.3462\n",
      "Epoch 32/50\n",
      "15/15 [==============================] - 40s 3s/step - loss: 0.7135 - accuracy: 0.8013 - val_loss: 1.7813 - val_accuracy: 0.3462\n",
      "Epoch 33/50\n",
      "15/15 [==============================] - 44s 3s/step - loss: 0.7013 - accuracy: 0.8143 - val_loss: 1.7643 - val_accuracy: 0.3462\n",
      "Epoch 34/50\n",
      "15/15 [==============================] - 49s 3s/step - loss: 0.6921 - accuracy: 0.8164 - val_loss: 1.8100 - val_accuracy: 0.3269\n",
      "Epoch 35/50\n",
      "15/15 [==============================] - 47s 3s/step - loss: 0.6803 - accuracy: 0.8251 - val_loss: 1.8127 - val_accuracy: 0.3654\n",
      "Epoch 36/50\n",
      "15/15 [==============================] - 53s 3s/step - loss: 0.6657 - accuracy: 0.8164 - val_loss: 1.7877 - val_accuracy: 0.3654\n",
      "Epoch 37/50\n",
      "15/15 [==============================] - 51s 3s/step - loss: 0.6574 - accuracy: 0.8207 - val_loss: 1.7954 - val_accuracy: 0.3846\n",
      "Epoch 38/50\n",
      "15/15 [==============================] - 44s 3s/step - loss: 0.6397 - accuracy: 0.8294 - val_loss: 1.8375 - val_accuracy: 0.3462\n",
      "Epoch 39/50\n",
      "15/15 [==============================] - 44s 3s/step - loss: 0.6400 - accuracy: 0.8488 - val_loss: 1.8105 - val_accuracy: 0.3846\n",
      "Epoch 40/50\n",
      "15/15 [==============================] - 51s 3s/step - loss: 0.6286 - accuracy: 0.8337 - val_loss: 1.8988 - val_accuracy: 0.3077\n",
      "Epoch 41/50\n",
      "15/15 [==============================] - 55s 4s/step - loss: 0.6258 - accuracy: 0.8510 - val_loss: 1.7966 - val_accuracy: 0.4038\n",
      "Epoch 42/50\n",
      "15/15 [==============================] - 41s 3s/step - loss: 0.6081 - accuracy: 0.8315 - val_loss: 1.8459 - val_accuracy: 0.3462\n",
      "Epoch 43/50\n",
      "15/15 [==============================] - 49s 3s/step - loss: 0.5991 - accuracy: 0.8553 - val_loss: 1.8381 - val_accuracy: 0.3462\n",
      "Epoch 44/50\n",
      "15/15 [==============================] - 48s 3s/step - loss: 0.5870 - accuracy: 0.8445 - val_loss: 1.8393 - val_accuracy: 0.3654\n",
      "Epoch 45/50\n",
      "15/15 [==============================] - 42s 3s/step - loss: 0.5757 - accuracy: 0.8575 - val_loss: 1.8829 - val_accuracy: 0.3462\n",
      "Epoch 46/50\n",
      "15/15 [==============================] - 52s 3s/step - loss: 0.5724 - accuracy: 0.8553 - val_loss: 1.8903 - val_accuracy: 0.3654\n",
      "Epoch 47/50\n",
      "15/15 [==============================] - 54s 4s/step - loss: 0.5653 - accuracy: 0.8704 - val_loss: 1.8314 - val_accuracy: 0.4038\n",
      "Epoch 48/50\n",
      "15/15 [==============================] - 57s 4s/step - loss: 0.5585 - accuracy: 0.8553 - val_loss: 1.8945 - val_accuracy: 0.3654\n",
      "Epoch 49/50\n",
      "15/15 [==============================] - 48s 3s/step - loss: 0.5474 - accuracy: 0.8747 - val_loss: 1.8479 - val_accuracy: 0.3654\n",
      "Epoch 50/50\n",
      "15/15 [==============================] - 45s 3s/step - loss: 0.5401 - accuracy: 0.8683 - val_loss: 1.8769 - val_accuracy: 0.3654\n"
     ]
    }
   ],
   "source": [
    "# Train the model with preprocessed data\n",
    "history = model.fit(X_train, y_train, batch_size=batch_size, epochs=epochs, validation_data=(X_test, y_test))"
   ]
  },
  {
   "cell_type": "code",
   "execution_count": 31,
   "metadata": {},
   "outputs": [
    {
     "name": "stdout",
     "output_type": "stream",
     "text": [
      "15/15 [==============================] - 39s 2s/step\n",
      "2/2 [==============================] - 4s 2s/step\n"
     ]
    }
   ],
   "source": [
    "# Predict on the train and test set\n",
    "ypred_train = np.argmax(model.predict(X_train), axis=1)\n",
    "ypred_val = np.argmax(model.predict(X_test), axis=1)"
   ]
  },
  {
   "cell_type": "code",
   "execution_count": 32,
   "metadata": {},
   "outputs": [],
   "source": [
    "import seaborn as sns\n",
    "def plot_history(history, metrics):\n",
    "    \"\"\"\n",
    "    Plot the training history\n",
    "\n",
    "    Args:\n",
    "        history (keras History object that is returned by model.fit())\n",
    "        metrics (str, list): Metric or a list of metrics to plot\n",
    "    \"\"\"\n",
    "    history_df = pd.DataFrame.from_dict(history.history)\n",
    "    sns.lineplot(data=history_df[metrics])\n",
    "    plt.xlabel(\"epochs\")\n",
    "    plt.ylabel(\"metric\")"
   ]
  },
  {
   "cell_type": "code",
   "execution_count": 33,
   "metadata": {},
   "outputs": [
    {
     "data": {
      "image/png": "[encoded data removed]",
      "text/plain": [
       "<Figure size 640x480 with 1 Axes>"
      ]
     },
     "metadata": {},
     "output_type": "display_data"
    }
   ],
   "source": [
    "plot_history(history, ['loss', 'accuracy', 'val_loss', 'val_accuracy'] )"
   ]
  },
  {
   "cell_type": "code",
   "execution_count": null,
   "metadata": {},
   "outputs": [],
   "source": [
    "# # If data was from a generator function, create output labels for comparison\n",
    "# ylabels = []\n",
    "# for element in ds:\n",
    "#     ylabels = ylabels.extend(list(element[1].numpy()))\n",
    "# ylabels = np.array(ylabels)"
   ]
  },
  {
   "cell_type": "code",
   "execution_count": 34,
   "metadata": {},
   "outputs": [
    {
     "name": "stdout",
     "output_type": "stream",
     "text": [
      "Correct predictions, Total samples, Accuracy\n",
      "406 463 0.8768898488120951\n",
      "19 52 0.36538461538461536\n"
     ]
    }
   ],
   "source": [
    "import random \n",
    "print ('Correct predictions, Total samples, Accuracy')\n",
    "print (np.count_nonzero(ypred_train - np.argmax(y_train, axis=1) == 0), y_train.shape[0], np.count_nonzero(ypred_train - np.argmax(y_train, axis=1) == 0)/y_train.shape[0])\n",
    "print (np.count_nonzero(ypred_val - np.argmax(y_test, axis=1) == 0), y_test.shape[0], np.count_nonzero(ypred_val - np.argmax(y_test, axis=1) == 0)/y_test.shape[0])"
   ]
  },
  {
   "cell_type": "code",
   "execution_count": null,
   "metadata": {},
   "outputs": [],
   "source": []
  }
 ],
 "metadata": {
  "kernelspec": {
   "display_name": "xai4geo",
   "language": "python",
   "name": "python3"
  },
  "language_info": {
   "codemirror_mode": {
    "name": "ipython",
    "version": 3
   },
   "file_extension": ".py",
   "mimetype": "text/x-python",
   "name": "python",
   "nbconvert_exporter": "python",
   "pygments_lexer": "ipython3",
   "version": "3.11.5"
  },
  "orig_nbformat": 4
 },
 "nbformat": 4,
 "nbformat_minor": 2
}
