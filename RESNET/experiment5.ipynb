{
 "cells": [
  {
   "cell_type": "code",
   "execution_count": 1,
   "metadata": {},
   "outputs": [
    {
     "name": "stderr",
     "output_type": "stream",
     "text": [
      "2023-09-01 12:35:22.306969: I tensorflow/core/util/port.cc:110] oneDNN custom operations are on. You may see slightly different numerical results due to floating-point round-off errors from different computation orders. To turn them off, set the environment variable `TF_ENABLE_ONEDNN_OPTS=0`.\n",
      "2023-09-01 12:35:22.331061: I tensorflow/core/platform/cpu_feature_guard.cc:182] This TensorFlow binary is optimized to use available CPU instructions in performance-critical operations.\n",
      "To enable the following instructions: SSE4.1 SSE4.2 AVX AVX2 AVX512F AVX512_VNNI FMA, in other operations, rebuild TensorFlow with the appropriate compiler flags.\n"
     ]
    }
   ],
   "source": [
    "import keras\n",
    "import tensorflow as tf\n",
    "import geopandas\n",
    "import matplotlib.pyplot as plt\n",
    "import pandas as pd\n",
    "import rioxarray\n",
    "import numpy as np\n",
    "import IDTreeS_dataset\n",
    "from classification_models.keras import Classifiers"
   ]
  },
  {
   "cell_type": "markdown",
   "metadata": {},
   "source": [
    "# Set Parameters for run:"
   ]
  },
  {
   "cell_type": "code",
   "execution_count": 18,
   "metadata": {},
   "outputs": [],
   "source": [
    "# Data Parameters\n",
    "train_test_split_size = 0.2\n",
    "random_state = 0\n",
    "shuffle = True\n",
    "\n",
    "# Architecture Parameters\n",
    "base_model_name ='ResNet18' #Options: ResNet18, ResNet50V2\n",
    "activation = 'softmax'\n",
    "\n",
    "# Compile options\n",
    "metrics = ['accuracy']\n",
    "optimizer = keras.optimizers.Adam()\n",
    "loss_function = keras.losses.CategoricalCrossentropy(from_logits=False)\n",
    "\n",
    "# Training Parameters\n",
    "batch_size = 32\n",
    "epochs = 50 "
   ]
  },
  {
   "cell_type": "markdown",
   "metadata": {},
   "source": [
    "### Set Keras backend for image data format"
   ]
  },
  {
   "cell_type": "code",
   "execution_count": 3,
   "metadata": {},
   "outputs": [],
   "source": [
    "keras.backend.set_image_data_format('channels_first')"
   ]
  },
  {
   "cell_type": "markdown",
   "metadata": {},
   "source": [
    "### Load ResNet50V2 model from Keras and freeze weights"
   ]
  },
  {
   "cell_type": "code",
   "execution_count": 6,
   "metadata": {},
   "outputs": [],
   "source": [
    "if base_model_name == 'ResNet50V2':\n",
    "    base_model = tf.keras.applications.ResNet50V2(\n",
    "        include_top=False,\n",
    "        weights=\"imagenet\",\n",
    "        input_tensor=None,\n",
    "        input_shape=None,\n",
    "        pooling=None\n",
    "    )\n",
    "elif base_model_name == 'ResNet18':\n",
    "    ResNet18, preprocess_input = Classifiers.get('resnet18')\n",
    "    base_model = ResNet18(input_shape=(3,100,100), weights='imagenet', include_top=False)\n",
    "else:\n",
    "    raise ValueError('Base model not defined')"
   ]
  },
  {
   "cell_type": "code",
   "execution_count": 7,
   "metadata": {},
   "outputs": [],
   "source": [
    "base_model.trainable = False"
   ]
  },
  {
   "cell_type": "code",
   "execution_count": 9,
   "metadata": {},
   "outputs": [
    {
     "name": "stdout",
     "output_type": "stream",
     "text": [
      "Model: \"model_1\"\n",
      "__________________________________________________________________________________________________\n",
      " Layer (type)                   Output Shape         Param #     Connected to                     \n",
      "==================================================================================================\n",
      " data (InputLayer)              [(None, 3, 100, 100  0           []                               \n",
      "                                )]                                                                \n",
      "                                                                                                  \n",
      " bn_data (BatchNormalization)   (None, 3, 100, 100)  9           ['data[0][0]']                   \n",
      "                                                                                                  \n",
      " zero_padding2d_18 (ZeroPadding  (None, 3, 106, 106)  0          ['bn_data[0][0]']                \n",
      " 2D)                                                                                              \n",
      "                                                                                                  \n",
      " conv0 (Conv2D)                 (None, 64, 50, 50)   9408        ['zero_padding2d_18[0][0]']      \n",
      "                                                                                                  \n",
      " bn0 (BatchNormalization)       (None, 64, 50, 50)   256         ['conv0[0][0]']                  \n",
      "                                                                                                  \n",
      " relu0 (Activation)             (None, 64, 50, 50)   0           ['bn0[0][0]']                    \n",
      "                                                                                                  \n",
      " zero_padding2d_19 (ZeroPadding  (None, 64, 52, 52)  0           ['relu0[0][0]']                  \n",
      " 2D)                                                                                              \n",
      "                                                                                                  \n",
      " pooling0 (MaxPooling2D)        (None, 64, 25, 25)   0           ['zero_padding2d_19[0][0]']      \n",
      "                                                                                                  \n",
      " stage1_unit1_bn1 (BatchNormali  (None, 64, 25, 25)  256         ['pooling0[0][0]']               \n",
      " zation)                                                                                          \n",
      "                                                                                                  \n",
      " stage1_unit1_relu1 (Activation  (None, 64, 25, 25)  0           ['stage1_unit1_bn1[0][0]']       \n",
      " )                                                                                                \n",
      "                                                                                                  \n",
      " zero_padding2d_20 (ZeroPadding  (None, 64, 27, 27)  0           ['stage1_unit1_relu1[0][0]']     \n",
      " 2D)                                                                                              \n",
      "                                                                                                  \n",
      " stage1_unit1_conv1 (Conv2D)    (None, 64, 25, 25)   36864       ['zero_padding2d_20[0][0]']      \n",
      "                                                                                                  \n",
      " stage1_unit1_bn2 (BatchNormali  (None, 64, 25, 25)  256         ['stage1_unit1_conv1[0][0]']     \n",
      " zation)                                                                                          \n",
      "                                                                                                  \n",
      " stage1_unit1_relu2 (Activation  (None, 64, 25, 25)  0           ['stage1_unit1_bn2[0][0]']       \n",
      " )                                                                                                \n",
      "                                                                                                  \n",
      " zero_padding2d_21 (ZeroPadding  (None, 64, 27, 27)  0           ['stage1_unit1_relu2[0][0]']     \n",
      " 2D)                                                                                              \n",
      "                                                                                                  \n",
      " stage1_unit1_conv2 (Conv2D)    (None, 64, 25, 25)   36864       ['zero_padding2d_21[0][0]']      \n",
      "                                                                                                  \n",
      " stage1_unit1_sc (Conv2D)       (None, 64, 25, 25)   4096        ['stage1_unit1_relu1[0][0]']     \n",
      "                                                                                                  \n",
      " add_8 (Add)                    (None, 64, 25, 25)   0           ['stage1_unit1_conv2[0][0]',     \n",
      "                                                                  'stage1_unit1_sc[0][0]']        \n",
      "                                                                                                  \n",
      " stage1_unit2_bn1 (BatchNormali  (None, 64, 25, 25)  256         ['add_8[0][0]']                  \n",
      " zation)                                                                                          \n",
      "                                                                                                  \n",
      " stage1_unit2_relu1 (Activation  (None, 64, 25, 25)  0           ['stage1_unit2_bn1[0][0]']       \n",
      " )                                                                                                \n",
      "                                                                                                  \n",
      " zero_padding2d_22 (ZeroPadding  (None, 64, 27, 27)  0           ['stage1_unit2_relu1[0][0]']     \n",
      " 2D)                                                                                              \n",
      "                                                                                                  \n",
      " stage1_unit2_conv1 (Conv2D)    (None, 64, 25, 25)   36864       ['zero_padding2d_22[0][0]']      \n",
      "                                                                                                  \n",
      " stage1_unit2_bn2 (BatchNormali  (None, 64, 25, 25)  256         ['stage1_unit2_conv1[0][0]']     \n",
      " zation)                                                                                          \n",
      "                                                                                                  \n",
      " stage1_unit2_relu2 (Activation  (None, 64, 25, 25)  0           ['stage1_unit2_bn2[0][0]']       \n",
      " )                                                                                                \n",
      "                                                                                                  \n",
      " zero_padding2d_23 (ZeroPadding  (None, 64, 27, 27)  0           ['stage1_unit2_relu2[0][0]']     \n",
      " 2D)                                                                                              \n",
      "                                                                                                  \n",
      " stage1_unit2_conv2 (Conv2D)    (None, 64, 25, 25)   36864       ['zero_padding2d_23[0][0]']      \n",
      "                                                                                                  \n",
      " add_9 (Add)                    (None, 64, 25, 25)   0           ['stage1_unit2_conv2[0][0]',     \n",
      "                                                                  'add_8[0][0]']                  \n",
      "                                                                                                  \n",
      " stage2_unit1_bn1 (BatchNormali  (None, 64, 25, 25)  256         ['add_9[0][0]']                  \n",
      " zation)                                                                                          \n",
      "                                                                                                  \n",
      " stage2_unit1_relu1 (Activation  (None, 64, 25, 25)  0           ['stage2_unit1_bn1[0][0]']       \n",
      " )                                                                                                \n",
      "                                                                                                  \n",
      " zero_padding2d_24 (ZeroPadding  (None, 64, 27, 27)  0           ['stage2_unit1_relu1[0][0]']     \n",
      " 2D)                                                                                              \n",
      "                                                                                                  \n",
      " stage2_unit1_conv1 (Conv2D)    (None, 128, 13, 13)  73728       ['zero_padding2d_24[0][0]']      \n",
      "                                                                                                  \n",
      " stage2_unit1_bn2 (BatchNormali  (None, 128, 13, 13)  512        ['stage2_unit1_conv1[0][0]']     \n",
      " zation)                                                                                          \n",
      "                                                                                                  \n",
      " stage2_unit1_relu2 (Activation  (None, 128, 13, 13)  0          ['stage2_unit1_bn2[0][0]']       \n",
      " )                                                                                                \n",
      "                                                                                                  \n",
      " zero_padding2d_25 (ZeroPadding  (None, 128, 15, 15)  0          ['stage2_unit1_relu2[0][0]']     \n",
      " 2D)                                                                                              \n",
      "                                                                                                  \n",
      " stage2_unit1_conv2 (Conv2D)    (None, 128, 13, 13)  147456      ['zero_padding2d_25[0][0]']      \n",
      "                                                                                                  \n",
      " stage2_unit1_sc (Conv2D)       (None, 128, 13, 13)  8192        ['stage2_unit1_relu1[0][0]']     \n",
      "                                                                                                  \n",
      " add_10 (Add)                   (None, 128, 13, 13)  0           ['stage2_unit1_conv2[0][0]',     \n",
      "                                                                  'stage2_unit1_sc[0][0]']        \n",
      "                                                                                                  \n",
      " stage2_unit2_bn1 (BatchNormali  (None, 128, 13, 13)  512        ['add_10[0][0]']                 \n",
      " zation)                                                                                          \n",
      "                                                                                                  \n",
      " stage2_unit2_relu1 (Activation  (None, 128, 13, 13)  0          ['stage2_unit2_bn1[0][0]']       \n",
      " )                                                                                                \n",
      "                                                                                                  \n",
      " zero_padding2d_26 (ZeroPadding  (None, 128, 15, 15)  0          ['stage2_unit2_relu1[0][0]']     \n",
      " 2D)                                                                                              \n",
      "                                                                                                  \n",
      " stage2_unit2_conv1 (Conv2D)    (None, 128, 13, 13)  147456      ['zero_padding2d_26[0][0]']      \n",
      "                                                                                                  \n",
      " stage2_unit2_bn2 (BatchNormali  (None, 128, 13, 13)  512        ['stage2_unit2_conv1[0][0]']     \n",
      " zation)                                                                                          \n",
      "                                                                                                  \n",
      " stage2_unit2_relu2 (Activation  (None, 128, 13, 13)  0          ['stage2_unit2_bn2[0][0]']       \n",
      " )                                                                                                \n",
      "                                                                                                  \n",
      " zero_padding2d_27 (ZeroPadding  (None, 128, 15, 15)  0          ['stage2_unit2_relu2[0][0]']     \n",
      " 2D)                                                                                              \n",
      "                                                                                                  \n",
      " stage2_unit2_conv2 (Conv2D)    (None, 128, 13, 13)  147456      ['zero_padding2d_27[0][0]']      \n",
      "                                                                                                  \n",
      " add_11 (Add)                   (None, 128, 13, 13)  0           ['stage2_unit2_conv2[0][0]',     \n",
      "                                                                  'add_10[0][0]']                 \n",
      "                                                                                                  \n",
      " stage3_unit1_bn1 (BatchNormali  (None, 128, 13, 13)  512        ['add_11[0][0]']                 \n",
      " zation)                                                                                          \n",
      "                                                                                                  \n",
      " stage3_unit1_relu1 (Activation  (None, 128, 13, 13)  0          ['stage3_unit1_bn1[0][0]']       \n",
      " )                                                                                                \n",
      "                                                                                                  \n",
      " zero_padding2d_28 (ZeroPadding  (None, 128, 15, 15)  0          ['stage3_unit1_relu1[0][0]']     \n",
      " 2D)                                                                                              \n",
      "                                                                                                  \n",
      " stage3_unit1_conv1 (Conv2D)    (None, 256, 7, 7)    294912      ['zero_padding2d_28[0][0]']      \n",
      "                                                                                                  \n",
      " stage3_unit1_bn2 (BatchNormali  (None, 256, 7, 7)   1024        ['stage3_unit1_conv1[0][0]']     \n",
      " zation)                                                                                          \n",
      "                                                                                                  \n",
      " stage3_unit1_relu2 (Activation  (None, 256, 7, 7)   0           ['stage3_unit1_bn2[0][0]']       \n",
      " )                                                                                                \n",
      "                                                                                                  \n",
      " zero_padding2d_29 (ZeroPadding  (None, 256, 9, 9)   0           ['stage3_unit1_relu2[0][0]']     \n",
      " 2D)                                                                                              \n",
      "                                                                                                  \n",
      " stage3_unit1_conv2 (Conv2D)    (None, 256, 7, 7)    589824      ['zero_padding2d_29[0][0]']      \n",
      "                                                                                                  \n",
      " stage3_unit1_sc (Conv2D)       (None, 256, 7, 7)    32768       ['stage3_unit1_relu1[0][0]']     \n",
      "                                                                                                  \n",
      " add_12 (Add)                   (None, 256, 7, 7)    0           ['stage3_unit1_conv2[0][0]',     \n",
      "                                                                  'stage3_unit1_sc[0][0]']        \n",
      "                                                                                                  \n",
      " stage3_unit2_bn1 (BatchNormali  (None, 256, 7, 7)   1024        ['add_12[0][0]']                 \n",
      " zation)                                                                                          \n",
      "                                                                                                  \n",
      " stage3_unit2_relu1 (Activation  (None, 256, 7, 7)   0           ['stage3_unit2_bn1[0][0]']       \n",
      " )                                                                                                \n",
      "                                                                                                  \n",
      " zero_padding2d_30 (ZeroPadding  (None, 256, 9, 9)   0           ['stage3_unit2_relu1[0][0]']     \n",
      " 2D)                                                                                              \n",
      "                                                                                                  \n",
      " stage3_unit2_conv1 (Conv2D)    (None, 256, 7, 7)    589824      ['zero_padding2d_30[0][0]']      \n",
      "                                                                                                  \n",
      " stage3_unit2_bn2 (BatchNormali  (None, 256, 7, 7)   1024        ['stage3_unit2_conv1[0][0]']     \n",
      " zation)                                                                                          \n",
      "                                                                                                  \n",
      " stage3_unit2_relu2 (Activation  (None, 256, 7, 7)   0           ['stage3_unit2_bn2[0][0]']       \n",
      " )                                                                                                \n",
      "                                                                                                  \n",
      " zero_padding2d_31 (ZeroPadding  (None, 256, 9, 9)   0           ['stage3_unit2_relu2[0][0]']     \n",
      " 2D)                                                                                              \n",
      "                                                                                                  \n",
      " stage3_unit2_conv2 (Conv2D)    (None, 256, 7, 7)    589824      ['zero_padding2d_31[0][0]']      \n",
      "                                                                                                  \n",
      " add_13 (Add)                   (None, 256, 7, 7)    0           ['stage3_unit2_conv2[0][0]',     \n",
      "                                                                  'add_12[0][0]']                 \n",
      "                                                                                                  \n",
      " stage4_unit1_bn1 (BatchNormali  (None, 256, 7, 7)   1024        ['add_13[0][0]']                 \n",
      " zation)                                                                                          \n",
      "                                                                                                  \n",
      " stage4_unit1_relu1 (Activation  (None, 256, 7, 7)   0           ['stage4_unit1_bn1[0][0]']       \n",
      " )                                                                                                \n",
      "                                                                                                  \n",
      " zero_padding2d_32 (ZeroPadding  (None, 256, 9, 9)   0           ['stage4_unit1_relu1[0][0]']     \n",
      " 2D)                                                                                              \n",
      "                                                                                                  \n",
      " stage4_unit1_conv1 (Conv2D)    (None, 512, 4, 4)    1179648     ['zero_padding2d_32[0][0]']      \n",
      "                                                                                                  \n",
      " stage4_unit1_bn2 (BatchNormali  (None, 512, 4, 4)   2048        ['stage4_unit1_conv1[0][0]']     \n",
      " zation)                                                                                          \n",
      "                                                                                                  \n",
      " stage4_unit1_relu2 (Activation  (None, 512, 4, 4)   0           ['stage4_unit1_bn2[0][0]']       \n",
      " )                                                                                                \n",
      "                                                                                                  \n",
      " zero_padding2d_33 (ZeroPadding  (None, 512, 6, 6)   0           ['stage4_unit1_relu2[0][0]']     \n",
      " 2D)                                                                                              \n",
      "                                                                                                  \n",
      " stage4_unit1_conv2 (Conv2D)    (None, 512, 4, 4)    2359296     ['zero_padding2d_33[0][0]']      \n",
      "                                                                                                  \n",
      " stage4_unit1_sc (Conv2D)       (None, 512, 4, 4)    131072      ['stage4_unit1_relu1[0][0]']     \n",
      "                                                                                                  \n",
      " add_14 (Add)                   (None, 512, 4, 4)    0           ['stage4_unit1_conv2[0][0]',     \n",
      "                                                                  'stage4_unit1_sc[0][0]']        \n",
      "                                                                                                  \n",
      " stage4_unit2_bn1 (BatchNormali  (None, 512, 4, 4)   2048        ['add_14[0][0]']                 \n",
      " zation)                                                                                          \n",
      "                                                                                                  \n",
      " stage4_unit2_relu1 (Activation  (None, 512, 4, 4)   0           ['stage4_unit2_bn1[0][0]']       \n",
      " )                                                                                                \n",
      "                                                                                                  \n",
      " zero_padding2d_34 (ZeroPadding  (None, 512, 6, 6)   0           ['stage4_unit2_relu1[0][0]']     \n",
      " 2D)                                                                                              \n",
      "                                                                                                  \n",
      " stage4_unit2_conv1 (Conv2D)    (None, 512, 4, 4)    2359296     ['zero_padding2d_34[0][0]']      \n",
      "                                                                                                  \n",
      " stage4_unit2_bn2 (BatchNormali  (None, 512, 4, 4)   2048        ['stage4_unit2_conv1[0][0]']     \n",
      " zation)                                                                                          \n",
      "                                                                                                  \n",
      " stage4_unit2_relu2 (Activation  (None, 512, 4, 4)   0           ['stage4_unit2_bn2[0][0]']       \n",
      " )                                                                                                \n",
      "                                                                                                  \n",
      " zero_padding2d_35 (ZeroPadding  (None, 512, 6, 6)   0           ['stage4_unit2_relu2[0][0]']     \n",
      " 2D)                                                                                              \n",
      "                                                                                                  \n",
      " stage4_unit2_conv2 (Conv2D)    (None, 512, 4, 4)    2359296     ['zero_padding2d_35[0][0]']      \n",
      "                                                                                                  \n",
      " add_15 (Add)                   (None, 512, 4, 4)    0           ['stage4_unit2_conv2[0][0]',     \n",
      "                                                                  'add_14[0][0]']                 \n",
      "                                                                                                  \n",
      " bn1 (BatchNormalization)       (None, 512, 4, 4)    2048        ['add_15[0][0]']                 \n",
      "                                                                                                  \n",
      " relu1 (Activation)             (None, 512, 4, 4)    0           ['bn1[0][0]']                    \n",
      "                                                                                                  \n",
      "==================================================================================================\n",
      "Total params: 11,186,889\n",
      "Trainable params: 0\n",
      "Non-trainable params: 11,186,889\n",
      "__________________________________________________________________________________________________\n"
     ]
    }
   ],
   "source": [
    "base_model.summary()"
   ]
  },
  {
   "cell_type": "markdown",
   "metadata": {},
   "source": [
    "### Load data and set model parameters"
   ]
  },
  {
   "cell_type": "code",
   "execution_count": 10,
   "metadata": {},
   "outputs": [],
   "source": [
    "import glob\n",
    "\n",
    "from rioxarray.exceptions import NoDataInBounds\n",
    "from sklearn.preprocessing import LabelEncoder "
   ]
  },
  {
   "cell_type": "code",
   "execution_count": 11,
   "metadata": {},
   "outputs": [],
   "source": [
    "# Data Loader from IDTreeS Dataset\n",
    "rgb_paths = glob.glob('./train/RemoteSensing/RGB/*.tif')\n",
    "bboxes_paths = glob.glob('./train/ITC/train_*.shp')\n",
    "classes_path = './train/Field/train_data.csv'\n",
    "\n",
    "# Convert generator dataset in to suitable input for keras\n",
    "ds = IDTreeS_dataset.IDTreeSDataset(rgb_paths, bboxes_paths, classes_path)\n",
    "\n",
    "ids, Y, X = ds.get_cutouts()\n",
    "\n",
    "nclasses = len(np.unique(Y)) #Number of classes in training data"
   ]
  },
  {
   "cell_type": "code",
   "execution_count": 19,
   "metadata": {},
   "outputs": [],
   "source": [
    "def preprocess_data(X, Y, nclasses):\n",
    "    if base_model_name == 'ResNet50V2':\n",
    "        X_p = keras.applications.resnet_v2.preprocess_input(X)\n",
    "    elif base_model_name == 'ResNet18':\n",
    "        X_p = preprocess_input(X)\n",
    "    else:\n",
    "        raise ValueError('Model not defined')\n",
    "    Y_p = keras.utils.to_categorical(Y, nclasses)\n",
    "    return X_p, Y_p\n",
    "\n",
    "X, Y = preprocess_data(X, Y, nclasses)"
   ]
  },
  {
   "cell_type": "code",
   "execution_count": 20,
   "metadata": {},
   "outputs": [],
   "source": [
    "# Split train and test data\n",
    "from sklearn.model_selection import train_test_split\n",
    "\n",
    "X_train, X_test, y_train, y_test = train_test_split(X, Y, test_size=train_test_split_size, random_state=random_state, shuffle=shuffle)"
   ]
  },
  {
   "cell_type": "markdown",
   "metadata": {},
   "source": [
    "### Create new model using the base model plus additional layers"
   ]
  },
  {
   "cell_type": "code",
   "execution_count": 21,
   "metadata": {},
   "outputs": [
    {
     "name": "stdout",
     "output_type": "stream",
     "text": [
      "Model: \"model_2\"\n",
      "_________________________________________________________________\n",
      " Layer (type)                Output Shape              Param #   \n",
      "=================================================================\n",
      " input_1 (InputLayer)        [(None, 3, 100, 100)]     0         \n",
      "                                                                 \n",
      " model_1 (Functional)        (None, 512, 4, 4)         11186889  \n",
      "                                                                 \n",
      " global_average_pooling2d (G  (None, 512)              0         \n",
      " lobalAveragePooling2D)                                          \n",
      "                                                                 \n",
      " dense (Dense)               (None, 9)                 4617      \n",
      "                                                                 \n",
      "=================================================================\n",
      "Total params: 11,191,506\n",
      "Trainable params: 4,617\n",
      "Non-trainable params: 11,186,889\n",
      "_________________________________________________________________\n"
     ]
    }
   ],
   "source": [
    "def create_model():\n",
    "    # Inputs\n",
    "    inputs = keras.Input(shape=(3, 100, 100))\n",
    "\n",
    "    # Run input image through our base model (ResNet)\n",
    "    x = base_model(inputs, training = False)\n",
    "\n",
    "    # Convert features from base model to a vector\n",
    "    x = keras.layers.GlobalAveragePooling2D()(x)\n",
    "\n",
    "    # # Create additional dense layers to fine tune the model\n",
    "    # x = keras.layers.Dense(256)(x)\n",
    "    # x = keras.layers.Dense(64)(x)\n",
    "\n",
    "    # Create output layer\n",
    "    outputs = keras.layers.Dense(nclasses, activation=activation)(x)\n",
    "\n",
    "    return keras.Model(inputs, outputs)\n",
    "\n",
    "model = create_model()\n",
    "model.summary()"
   ]
  },
  {
   "cell_type": "code",
   "execution_count": 22,
   "metadata": {},
   "outputs": [],
   "source": [
    "# Compile the model\n",
    "model.compile(optimizer=optimizer, \n",
    "              loss=loss_function,\n",
    "              metrics=metrics)"
   ]
  },
  {
   "cell_type": "code",
   "execution_count": 23,
   "metadata": {},
   "outputs": [
    {
     "name": "stdout",
     "output_type": "stream",
     "text": [
      "Epoch 1/50\n",
      "13/13 [==============================] - 19s 1s/step - loss: 2.2271 - accuracy: 0.1432 - val_loss: 2.0516 - val_accuracy: 0.1942\n",
      "Epoch 2/50\n",
      "13/13 [==============================] - 21s 2s/step - loss: 2.0124 - accuracy: 0.2160 - val_loss: 2.0189 - val_accuracy: 0.2233\n",
      "Epoch 3/50\n",
      "13/13 [==============================] - 23s 2s/step - loss: 1.9481 - accuracy: 0.2597 - val_loss: 1.9850 - val_accuracy: 0.2718\n",
      "Epoch 4/50\n",
      "13/13 [==============================] - 25s 2s/step - loss: 1.8987 - accuracy: 0.3131 - val_loss: 1.9434 - val_accuracy: 0.3107\n",
      "Epoch 5/50\n",
      "13/13 [==============================] - 25s 2s/step - loss: 1.8547 - accuracy: 0.3471 - val_loss: 1.9150 - val_accuracy: 0.3010\n",
      "Epoch 6/50\n",
      "13/13 [==============================] - 25s 2s/step - loss: 1.8155 - accuracy: 0.3786 - val_loss: 1.8985 - val_accuracy: 0.3010\n",
      "Epoch 7/50\n",
      "13/13 [==============================] - 24s 2s/step - loss: 1.7863 - accuracy: 0.3883 - val_loss: 1.8672 - val_accuracy: 0.3592\n",
      "Epoch 8/50\n",
      "13/13 [==============================] - 24s 2s/step - loss: 1.7597 - accuracy: 0.3956 - val_loss: 1.8489 - val_accuracy: 0.3398\n",
      "Epoch 9/50\n",
      "13/13 [==============================] - 24s 2s/step - loss: 1.7204 - accuracy: 0.4369 - val_loss: 1.8480 - val_accuracy: 0.3398\n",
      "Epoch 10/50\n",
      "13/13 [==============================] - 25s 2s/step - loss: 1.6912 - accuracy: 0.4417 - val_loss: 1.8214 - val_accuracy: 0.3689\n",
      "Epoch 11/50\n",
      "13/13 [==============================] - 25s 2s/step - loss: 1.6665 - accuracy: 0.4539 - val_loss: 1.8013 - val_accuracy: 0.3689\n",
      "Epoch 12/50\n",
      "13/13 [==============================] - 30s 2s/step - loss: 1.6468 - accuracy: 0.4684 - val_loss: 1.8010 - val_accuracy: 0.3592\n",
      "Epoch 13/50\n",
      "13/13 [==============================] - 32s 2s/step - loss: 1.6226 - accuracy: 0.4854 - val_loss: 1.7753 - val_accuracy: 0.3786\n",
      "Epoch 14/50\n",
      "13/13 [==============================] - 28s 2s/step - loss: 1.6092 - accuracy: 0.4976 - val_loss: 1.7861 - val_accuracy: 0.3689\n",
      "Epoch 15/50\n",
      "13/13 [==============================] - 26s 2s/step - loss: 1.5911 - accuracy: 0.4879 - val_loss: 1.7709 - val_accuracy: 0.3689\n",
      "Epoch 16/50\n",
      "13/13 [==============================] - 25s 2s/step - loss: 1.5702 - accuracy: 0.4782 - val_loss: 1.7552 - val_accuracy: 0.3883\n",
      "Epoch 17/50\n",
      "13/13 [==============================] - 26s 2s/step - loss: 1.5554 - accuracy: 0.4903 - val_loss: 1.7499 - val_accuracy: 0.3981\n",
      "Epoch 18/50\n",
      "13/13 [==============================] - 27s 2s/step - loss: 1.5464 - accuracy: 0.4903 - val_loss: 1.7439 - val_accuracy: 0.3689\n",
      "Epoch 19/50\n",
      "13/13 [==============================] - 28s 2s/step - loss: 1.5355 - accuracy: 0.4733 - val_loss: 1.7456 - val_accuracy: 0.3786\n",
      "Epoch 20/50\n",
      "13/13 [==============================] - 31s 2s/step - loss: 1.5106 - accuracy: 0.5194 - val_loss: 1.7370 - val_accuracy: 0.4078\n",
      "Epoch 21/50\n",
      "13/13 [==============================] - 26s 2s/step - loss: 1.4951 - accuracy: 0.5049 - val_loss: 1.7251 - val_accuracy: 0.3981\n",
      "Epoch 22/50\n",
      "13/13 [==============================] - 30s 2s/step - loss: 1.4813 - accuracy: 0.5097 - val_loss: 1.7321 - val_accuracy: 0.3981\n",
      "Epoch 23/50\n",
      "13/13 [==============================] - 31s 2s/step - loss: 1.4618 - accuracy: 0.5024 - val_loss: 1.7141 - val_accuracy: 0.4078\n",
      "Epoch 24/50\n",
      "13/13 [==============================] - 27s 2s/step - loss: 1.4541 - accuracy: 0.5413 - val_loss: 1.7266 - val_accuracy: 0.4175\n",
      "Epoch 25/50\n",
      "13/13 [==============================] - 30s 2s/step - loss: 1.4343 - accuracy: 0.5267 - val_loss: 1.7141 - val_accuracy: 0.4369\n",
      "Epoch 26/50\n",
      "13/13 [==============================] - 31s 2s/step - loss: 1.4220 - accuracy: 0.5291 - val_loss: 1.7248 - val_accuracy: 0.4175\n",
      "Epoch 27/50\n",
      "13/13 [==============================] - 28s 2s/step - loss: 1.4116 - accuracy: 0.5291 - val_loss: 1.7080 - val_accuracy: 0.4175\n",
      "Epoch 28/50\n",
      "13/13 [==============================] - 25s 2s/step - loss: 1.3943 - accuracy: 0.5607 - val_loss: 1.6933 - val_accuracy: 0.3981\n",
      "Epoch 29/50\n",
      "13/13 [==============================] - 24s 2s/step - loss: 1.3945 - accuracy: 0.5534 - val_loss: 1.7261 - val_accuracy: 0.4078\n",
      "Epoch 30/50\n",
      "13/13 [==============================] - 27s 2s/step - loss: 1.3729 - accuracy: 0.5583 - val_loss: 1.6984 - val_accuracy: 0.4175\n",
      "Epoch 31/50\n",
      "13/13 [==============================] - 30s 2s/step - loss: 1.3641 - accuracy: 0.5655 - val_loss: 1.6859 - val_accuracy: 0.4369\n",
      "Epoch 32/50\n",
      "13/13 [==============================] - 29s 2s/step - loss: 1.3509 - accuracy: 0.5680 - val_loss: 1.7131 - val_accuracy: 0.4272\n",
      "Epoch 33/50\n",
      "13/13 [==============================] - 29s 2s/step - loss: 1.3409 - accuracy: 0.5850 - val_loss: 1.6919 - val_accuracy: 0.4175\n",
      "Epoch 34/50\n",
      "13/13 [==============================] - 25s 2s/step - loss: 1.3413 - accuracy: 0.5558 - val_loss: 1.7099 - val_accuracy: 0.4272\n",
      "Epoch 35/50\n",
      "13/13 [==============================] - 25s 2s/step - loss: 1.3252 - accuracy: 0.5801 - val_loss: 1.6879 - val_accuracy: 0.4175\n",
      "Epoch 36/50\n",
      "13/13 [==============================] - 25s 2s/step - loss: 1.3189 - accuracy: 0.5971 - val_loss: 1.6970 - val_accuracy: 0.4563\n",
      "Epoch 37/50\n",
      "13/13 [==============================] - 25s 2s/step - loss: 1.3028 - accuracy: 0.5898 - val_loss: 1.6827 - val_accuracy: 0.4369\n",
      "Epoch 38/50\n",
      "13/13 [==============================] - 24s 2s/step - loss: 1.2958 - accuracy: 0.5947 - val_loss: 1.6998 - val_accuracy: 0.4369\n",
      "Epoch 39/50\n",
      "13/13 [==============================] - 24s 2s/step - loss: 1.2872 - accuracy: 0.6019 - val_loss: 1.6785 - val_accuracy: 0.4175\n",
      "Epoch 40/50\n",
      "13/13 [==============================] - 24s 2s/step - loss: 1.2800 - accuracy: 0.5971 - val_loss: 1.6913 - val_accuracy: 0.4272\n",
      "Epoch 41/50\n",
      "13/13 [==============================] - 26s 2s/step - loss: 1.2750 - accuracy: 0.5947 - val_loss: 1.6939 - val_accuracy: 0.4078\n",
      "Epoch 42/50\n",
      "13/13 [==============================] - 26s 2s/step - loss: 1.2670 - accuracy: 0.5825 - val_loss: 1.6889 - val_accuracy: 0.4272\n",
      "Epoch 43/50\n",
      "13/13 [==============================] - 27s 2s/step - loss: 1.2559 - accuracy: 0.6189 - val_loss: 1.6768 - val_accuracy: 0.4078\n",
      "Epoch 44/50\n",
      "13/13 [==============================] - 28s 2s/step - loss: 1.2539 - accuracy: 0.6141 - val_loss: 1.6844 - val_accuracy: 0.4272\n",
      "Epoch 45/50\n",
      "13/13 [==============================] - 28s 2s/step - loss: 1.2403 - accuracy: 0.5971 - val_loss: 1.6910 - val_accuracy: 0.4272\n",
      "Epoch 46/50\n",
      "13/13 [==============================] - 26s 2s/step - loss: 1.2313 - accuracy: 0.6044 - val_loss: 1.6903 - val_accuracy: 0.4078\n",
      "Epoch 47/50\n",
      "13/13 [==============================] - 25s 2s/step - loss: 1.2280 - accuracy: 0.6189 - val_loss: 1.6792 - val_accuracy: 0.4175\n",
      "Epoch 48/50\n",
      "13/13 [==============================] - 25s 2s/step - loss: 1.2185 - accuracy: 0.6238 - val_loss: 1.6891 - val_accuracy: 0.4369\n",
      "Epoch 49/50\n",
      "13/13 [==============================] - 24s 2s/step - loss: 1.2117 - accuracy: 0.6165 - val_loss: 1.6832 - val_accuracy: 0.4078\n",
      "Epoch 50/50\n",
      "13/13 [==============================] - 26s 2s/step - loss: 1.2031 - accuracy: 0.6019 - val_loss: 1.6896 - val_accuracy: 0.4272\n"
     ]
    }
   ],
   "source": [
    "# Train the model with preprocessed data\n",
    "history = model.fit(X_train, y_train, batch_size=batch_size, epochs=epochs, validation_data=(X_test, y_test))"
   ]
  },
  {
   "cell_type": "code",
   "execution_count": 24,
   "metadata": {},
   "outputs": [
    {
     "name": "stdout",
     "output_type": "stream",
     "text": [
      "13/13 [==============================] - 22s 2s/step\n",
      "4/4 [==============================] - 5s 1s/step\n"
     ]
    }
   ],
   "source": [
    "# Predict on the train and test set\n",
    "ypred_train = np.argmax(model.predict(X_train), axis=1)\n",
    "ypred_val = np.argmax(model.predict(X_test), axis=1)"
   ]
  },
  {
   "cell_type": "code",
   "execution_count": 25,
   "metadata": {},
   "outputs": [],
   "source": [
    "import seaborn as sns\n",
    "def plot_history(history, metrics):\n",
    "    \"\"\"\n",
    "    Plot the training history\n",
    "\n",
    "    Args:\n",
    "        history (keras History object that is returned by model.fit())\n",
    "        metrics (str, list): Metric or a list of metrics to plot\n",
    "    \"\"\"\n",
    "    history_df = pd.DataFrame.from_dict(history.history)\n",
    "    sns.lineplot(data=history_df[metrics])\n",
    "    plt.xlabel(\"epochs\")\n",
    "    plt.ylabel(\"metric\")"
   ]
  },
  {
   "cell_type": "code",
   "execution_count": 26,
   "metadata": {},
   "outputs": [
    {
     "data": {
      "image/png": "[encoded data removed]",
      "text/plain": [
       "<Figure size 640x480 with 1 Axes>"
      ]
     },
     "metadata": {},
     "output_type": "display_data"
    }
   ],
   "source": [
    "plot_history(history, ['loss', 'accuracy', 'val_loss', 'val_accuracy'] )"
   ]
  },
  {
   "cell_type": "code",
   "execution_count": 27,
   "metadata": {},
   "outputs": [
    {
     "data": {
      "text/plain": [
       "<Axes: >"
      ]
     },
     "execution_count": 27,
     "metadata": {},
     "output_type": "execute_result"
    },
    {
     "data": {
      "image/png": "[encoded data removed]",
      "text/plain": [
       "<Figure size 640x480 with 2 Axes>"
      ]
     },
     "metadata": {},
     "output_type": "display_data"
    }
   ],
   "source": [
    "from sklearn.metrics import confusion_matrix\n",
    "\n",
    "# Training data confusion matrix\n",
    "true_train_label = np.argmax(y_train, axis=1)\n",
    "matrix = confusion_matrix(true_train_label, ypred_train)\n",
    "sns.heatmap(matrix, annot=True)"
   ]
  },
  {
   "cell_type": "code",
   "execution_count": 28,
   "metadata": {},
   "outputs": [
    {
     "data": {
      "text/plain": [
       "<Axes: >"
      ]
     },
     "execution_count": 28,
     "metadata": {},
     "output_type": "execute_result"
    },
    {
     "data": {
      "image/png": "[encoded data removed]",
      "text/plain": [
       "<Figure size 640x480 with 2 Axes>"
      ]
     },
     "metadata": {},
     "output_type": "display_data"
    }
   ],
   "source": [
    "from sklearn.metrics import confusion_matrix\n",
    "\n",
    "# Validation data confusion matrix\n",
    "true_val_label = np.argmax(y_test, axis=1)\n",
    "matrix = confusion_matrix(true_val_label, ypred_val)\n",
    "sns.heatmap(matrix, annot=True)"
   ]
  },
  {
   "cell_type": "code",
   "execution_count": 29,
   "metadata": {},
   "outputs": [
    {
     "name": "stdout",
     "output_type": "stream",
     "text": [
      "Correct predictions, Total samples, Accuracy\n",
      "262 412 0.6359223300970874\n",
      "44 103 0.42718446601941745\n"
     ]
    }
   ],
   "source": [
    "import random \n",
    "print ('Correct predictions, Total samples, Accuracy')\n",
    "print (np.count_nonzero(ypred_train - np.argmax(y_train, axis=1) == 0), y_train.shape[0], np.count_nonzero(ypred_train - np.argmax(y_train, axis=1) == 0)/y_train.shape[0])\n",
    "print (np.count_nonzero(ypred_val - np.argmax(y_test, axis=1) == 0), y_test.shape[0], np.count_nonzero(ypred_val - np.argmax(y_test, axis=1) == 0)/y_test.shape[0])"
   ]
  },
  {
   "cell_type": "code",
   "execution_count": null,
   "metadata": {},
   "outputs": [],
   "source": []
  }
 ],
 "metadata": {
  "kernelspec": {
   "display_name": "xai4geo",
   "language": "python",
   "name": "python3"
  },
  "language_info": {
   "codemirror_mode": {
    "name": "ipython",
    "version": 3
   },
   "file_extension": ".py",
   "mimetype": "text/x-python",
   "name": "python",
   "nbconvert_exporter": "python",
   "pygments_lexer": "ipython3",
   "version": "3.11.5"
  },
  "orig_nbformat": 4
 },
 "nbformat": 4,
 "nbformat_minor": 2
}
